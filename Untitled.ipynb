{
 "cells": [
  {
   "cell_type": "code",
   "execution_count": 1,
   "id": "561ad747",
   "metadata": {},
   "outputs": [
    {
     "name": "stdout",
     "output_type": "stream",
     "text": [
      "WARNING:tensorflow:From C:\\Users\\massad\\anaconda3\\Lib\\site-packages\\keras\\src\\losses.py:2976: The name tf.losses.sparse_softmax_cross_entropy is deprecated. Please use tf.compat.v1.losses.sparse_softmax_cross_entropy instead.\n",
      "\n"
     ]
    }
   ],
   "source": [
    "import numpy as np \n",
    "import pandas as pd \n",
    "import seaborn as sns \n",
    "import plotly.express as px\n",
    "import matplotlib.pyplot as plt\n",
    "plt.style.use('ggplot')\n",
    "from sklearn.metrics import roc_curve, auc\n",
    "from sklearn.metrics import classification_report, confusion_matrix\n",
    "import nltk\n",
    "from nltk.corpus import stopwords\n",
    "from nltk.stem import PorterStemmer \n",
    "from sklearn.model_selection import train_test_split\n",
    "from mlxtend.plotting import plot_confusion_matrix\n",
    "import matplotlib.cm as cm\n",
    "from matplotlib import rcParams\n",
    "from collections import Counter\n",
    "from nltk.tokenize import RegexpTokenizer\n",
    "import re\n",
    "import string\n",
    "from tensorflow.keras.layers import LSTM, Activation, Dense, Dropout, Input, Embedding\n",
    "from tensorflow.keras.models import Model\n",
    "from tensorflow.keras.optimizers import RMSprop\n",
    "from tensorflow.keras.preprocessing.text import Tokenizer\n",
    "from tensorflow.keras.preprocessing import sequence\n",
    "%matplotlib inline\n",
    "\n",
    "import warnings\n",
    "warnings.filterwarnings(\"ignore\")"
   ]
  },
  {
   "cell_type": "code",
   "execution_count": 4,
   "id": "8c46e939",
   "metadata": {},
   "outputs": [
    {
     "name": "stdout",
     "output_type": "stream",
     "text": [
      "Collecting mlxtend\n",
      "  Obtaining dependency information for mlxtend from https://files.pythonhosted.org/packages/73/da/d5d77a9a7a135c948dbf8d3b873655b105a152d69e590150c83d23c3d070/mlxtend-0.23.0-py3-none-any.whl.metadata\n",
      "  Downloading mlxtend-0.23.0-py3-none-any.whl.metadata (7.3 kB)\n",
      "Requirement already satisfied: scipy>=1.2.1 in c:\\users\\massad\\anaconda3\\lib\\site-packages (from mlxtend) (1.11.1)\n",
      "Requirement already satisfied: numpy>=1.16.2 in c:\\users\\massad\\anaconda3\\lib\\site-packages (from mlxtend) (1.24.3)\n",
      "Requirement already satisfied: pandas>=0.24.2 in c:\\users\\massad\\anaconda3\\lib\\site-packages (from mlxtend) (2.0.3)\n",
      "Requirement already satisfied: scikit-learn>=1.0.2 in c:\\users\\massad\\anaconda3\\lib\\site-packages (from mlxtend) (1.3.0)\n",
      "Requirement already satisfied: matplotlib>=3.0.0 in c:\\users\\massad\\anaconda3\\lib\\site-packages (from mlxtend) (3.7.2)\n",
      "Requirement already satisfied: joblib>=0.13.2 in c:\\users\\massad\\anaconda3\\lib\\site-packages (from mlxtend) (1.2.0)\n",
      "Requirement already satisfied: contourpy>=1.0.1 in c:\\users\\massad\\anaconda3\\lib\\site-packages (from matplotlib>=3.0.0->mlxtend) (1.0.5)\n",
      "Requirement already satisfied: cycler>=0.10 in c:\\users\\massad\\anaconda3\\lib\\site-packages (from matplotlib>=3.0.0->mlxtend) (0.11.0)\n",
      "Requirement already satisfied: fonttools>=4.22.0 in c:\\users\\massad\\anaconda3\\lib\\site-packages (from matplotlib>=3.0.0->mlxtend) (4.25.0)\n",
      "Requirement already satisfied: kiwisolver>=1.0.1 in c:\\users\\massad\\anaconda3\\lib\\site-packages (from matplotlib>=3.0.0->mlxtend) (1.4.4)\n",
      "Requirement already satisfied: packaging>=20.0 in c:\\users\\massad\\anaconda3\\lib\\site-packages (from matplotlib>=3.0.0->mlxtend) (23.1)\n",
      "Requirement already satisfied: pillow>=6.2.0 in c:\\users\\massad\\anaconda3\\lib\\site-packages (from matplotlib>=3.0.0->mlxtend) (9.4.0)\n",
      "Requirement already satisfied: pyparsing<3.1,>=2.3.1 in c:\\users\\massad\\anaconda3\\lib\\site-packages (from matplotlib>=3.0.0->mlxtend) (3.0.9)\n",
      "Requirement already satisfied: python-dateutil>=2.7 in c:\\users\\massad\\anaconda3\\lib\\site-packages (from matplotlib>=3.0.0->mlxtend) (2.8.2)\n",
      "Requirement already satisfied: pytz>=2020.1 in c:\\users\\massad\\anaconda3\\lib\\site-packages (from pandas>=0.24.2->mlxtend) (2023.3.post1)\n",
      "Requirement already satisfied: tzdata>=2022.1 in c:\\users\\massad\\anaconda3\\lib\\site-packages (from pandas>=0.24.2->mlxtend) (2023.3)\n",
      "Requirement already satisfied: threadpoolctl>=2.0.0 in c:\\users\\massad\\anaconda3\\lib\\site-packages (from scikit-learn>=1.0.2->mlxtend) (2.2.0)\n",
      "Requirement already satisfied: six>=1.5 in c:\\users\\massad\\anaconda3\\lib\\site-packages (from python-dateutil>=2.7->matplotlib>=3.0.0->mlxtend) (1.16.0)\n",
      "Downloading mlxtend-0.23.0-py3-none-any.whl (1.4 MB)\n",
      "   ---------------------------------------- 0.0/1.4 MB ? eta -:--:--\n",
      "   ---------------------------------------- 0.0/1.4 MB ? eta -:--:--\n",
      "   ---------------------------------------- 0.0/1.4 MB ? eta -:--:--\n",
      "   ---------------------------------------- 0.0/1.4 MB ? eta -:--:--\n",
      "   ---------------------------------------- 0.0/1.4 MB ? eta -:--:--\n",
      "   ---------------------------------------- 0.0/1.4 MB ? eta -:--:--\n",
      "   ---------------------------------------- 0.0/1.4 MB ? eta -:--:--\n",
      "   ---------------------------------------- 0.0/1.4 MB ? eta -:--:--\n",
      "    --------------------------------------- 0.0/1.4 MB 54.6 kB/s eta 0:00:26\n",
      "    --------------------------------------- 0.0/1.4 MB 54.6 kB/s eta 0:00:26\n",
      "   - -------------------------------------- 0.0/1.4 MB 56.2 kB/s eta 0:00:26\n",
      "   - -------------------------------------- 0.0/1.4 MB 56.2 kB/s eta 0:00:26\n",
      "   - -------------------------------------- 0.1/1.4 MB 74.5 kB/s eta 0:00:19\n",
      "   - -------------------------------------- 0.1/1.4 MB 74.5 kB/s eta 0:00:19\n",
      "   - -------------------------------------- 0.1/1.4 MB 74.5 kB/s eta 0:00:19\n",
      "   - -------------------------------------- 0.1/1.4 MB 75.7 kB/s eta 0:00:19\n",
      "   - -------------------------------------- 0.1/1.4 MB 75.7 kB/s eta 0:00:19\n",
      "   - -------------------------------------- 0.1/1.4 MB 75.7 kB/s eta 0:00:19\n",
      "   --- ------------------------------------ 0.1/1.4 MB 102.4 kB/s eta 0:00:14\n",
      "   --- ------------------------------------ 0.1/1.4 MB 102.4 kB/s eta 0:00:14\n",
      "   --- ------------------------------------ 0.1/1.4 MB 100.1 kB/s eta 0:00:14\n",
      "   --- ------------------------------------ 0.1/1.4 MB 100.1 kB/s eta 0:00:14\n",
      "   --- ------------------------------------ 0.1/1.4 MB 107.9 kB/s eta 0:00:13\n",
      "   ---- ----------------------------------- 0.2/1.4 MB 109.3 kB/s eta 0:00:12\n",
      "   ---- ----------------------------------- 0.2/1.4 MB 109.3 kB/s eta 0:00:12\n",
      "   ---- ----------------------------------- 0.2/1.4 MB 116.5 kB/s eta 0:00:11\n",
      "   ---- ----------------------------------- 0.2/1.4 MB 116.5 kB/s eta 0:00:11\n",
      "   ----- ---------------------------------- 0.2/1.4 MB 124.2 kB/s eta 0:00:11\n",
      "   ----- ---------------------------------- 0.2/1.4 MB 124.2 kB/s eta 0:00:11\n",
      "   ----- ---------------------------------- 0.2/1.4 MB 123.3 kB/s eta 0:00:11\n",
      "   ----- ---------------------------------- 0.2/1.4 MB 123.3 kB/s eta 0:00:11\n",
      "   ------ --------------------------------- 0.2/1.4 MB 129.9 kB/s eta 0:00:10\n",
      "   ------ --------------------------------- 0.2/1.4 MB 131.1 kB/s eta 0:00:10\n",
      "   ------- -------------------------------- 0.3/1.4 MB 138.0 kB/s eta 0:00:09\n",
      "   ------- -------------------------------- 0.3/1.4 MB 138.0 kB/s eta 0:00:09\n",
      "   ------- -------------------------------- 0.3/1.4 MB 143.2 kB/s eta 0:00:09\n",
      "   ------- -------------------------------- 0.3/1.4 MB 146.3 kB/s eta 0:00:08\n",
      "   -------- ------------------------------- 0.3/1.4 MB 152.1 kB/s eta 0:00:08\n",
      "   -------- ------------------------------- 0.3/1.4 MB 152.5 kB/s eta 0:00:08\n",
      "   --------- ------------------------------ 0.3/1.4 MB 158.9 kB/s eta 0:00:07\n",
      "   --------- ------------------------------ 0.3/1.4 MB 158.9 kB/s eta 0:00:07\n",
      "   --------- ------------------------------ 0.4/1.4 MB 159.2 kB/s eta 0:00:07\n",
      "   ---------- ----------------------------- 0.4/1.4 MB 160.4 kB/s eta 0:00:07\n",
      "   ---------- ----------------------------- 0.4/1.4 MB 160.4 kB/s eta 0:00:07\n",
      "   ---------- ----------------------------- 0.4/1.4 MB 160.4 kB/s eta 0:00:07\n",
      "   ---------- ----------------------------- 0.4/1.4 MB 159.5 kB/s eta 0:00:07\n",
      "   ---------- ----------------------------- 0.4/1.4 MB 159.5 kB/s eta 0:00:07\n",
      "   ---------- ----------------------------- 0.4/1.4 MB 159.5 kB/s eta 0:00:07\n",
      "   ---------- ----------------------------- 0.4/1.4 MB 159.5 kB/s eta 0:00:07\n",
      "   ----------- ---------------------------- 0.4/1.4 MB 152.8 kB/s eta 0:00:07\n",
      "   ----------- ---------------------------- 0.4/1.4 MB 152.8 kB/s eta 0:00:07\n",
      "   ----------- ---------------------------- 0.4/1.4 MB 152.8 kB/s eta 0:00:07\n",
      "   ----------- ---------------------------- 0.4/1.4 MB 152.8 kB/s eta 0:00:07\n",
      "   ----------- ---------------------------- 0.4/1.4 MB 152.8 kB/s eta 0:00:07\n",
      "   ----------- ---------------------------- 0.4/1.4 MB 152.8 kB/s eta 0:00:07\n",
      "   ----------- ---------------------------- 0.4/1.4 MB 152.8 kB/s eta 0:00:07\n",
      "   ----------- ---------------------------- 0.4/1.4 MB 152.8 kB/s eta 0:00:07\n",
      "   ----------- ---------------------------- 0.4/1.4 MB 152.8 kB/s eta 0:00:07\n",
      "   ----------- ---------------------------- 0.4/1.4 MB 152.8 kB/s eta 0:00:07\n",
      "   ----------- ---------------------------- 0.4/1.4 MB 152.8 kB/s eta 0:00:07\n",
      "   ----------- ---------------------------- 0.4/1.4 MB 128.5 kB/s eta 0:00:09\n",
      "   ----------- ---------------------------- 0.4/1.4 MB 128.5 kB/s eta 0:00:09\n",
      "   ----------- ---------------------------- 0.4/1.4 MB 128.5 kB/s eta 0:00:09\n",
      "   ----------- ---------------------------- 0.4/1.4 MB 128.5 kB/s eta 0:00:09\n",
      "   ----------- ---------------------------- 0.4/1.4 MB 128.5 kB/s eta 0:00:09\n",
      "   ----------- ---------------------------- 0.4/1.4 MB 128.5 kB/s eta 0:00:09\n",
      "   ----------- ---------------------------- 0.4/1.4 MB 128.5 kB/s eta 0:00:09\n",
      "   ----------- ---------------------------- 0.4/1.4 MB 128.5 kB/s eta 0:00:09\n",
      "   ----------- ---------------------------- 0.4/1.4 MB 128.5 kB/s eta 0:00:09\n",
      "   ----------- ---------------------------- 0.4/1.4 MB 128.5 kB/s eta 0:00:09\n",
      "   ----------- ---------------------------- 0.4/1.4 MB 128.5 kB/s eta 0:00:09\n",
      "   ----------- ---------------------------- 0.4/1.4 MB 128.5 kB/s eta 0:00:09\n",
      "   ----------- ---------------------------- 0.4/1.4 MB 128.5 kB/s eta 0:00:09\n",
      "   ----------- ---------------------------- 0.4/1.4 MB 128.5 kB/s eta 0:00:09\n",
      "   ----------- ---------------------------- 0.4/1.4 MB 128.5 kB/s eta 0:00:09\n",
      "   ----------- ---------------------------- 0.4/1.4 MB 128.5 kB/s eta 0:00:09\n",
      "   ----------- ---------------------------- 0.4/1.4 MB 128.5 kB/s eta 0:00:09\n",
      "   ----------- ---------------------------- 0.4/1.4 MB 128.5 kB/s eta 0:00:09\n",
      "   ----------- ---------------------------- 0.4/1.4 MB 128.5 kB/s eta 0:00:09\n",
      "   ----------- ---------------------------- 0.4/1.4 MB 128.5 kB/s eta 0:00:09\n",
      "   ----------- ---------------------------- 0.4/1.4 MB 128.5 kB/s eta 0:00:09\n",
      "   ----------- ---------------------------- 0.4/1.4 MB 128.5 kB/s eta 0:00:09\n",
      "   ----------- ---------------------------- 0.4/1.4 MB 128.5 kB/s eta 0:00:09\n",
      "   ----------- ---------------------------- 0.4/1.4 MB 128.5 kB/s eta 0:00:09\n",
      "   ----------- ---------------------------- 0.4/1.4 MB 128.5 kB/s eta 0:00:09\n",
      "   ----------- ---------------------------- 0.4/1.4 MB 128.5 kB/s eta 0:00:09\n",
      "   ----------- ---------------------------- 0.4/1.4 MB 128.5 kB/s eta 0:00:09\n",
      "   ----------- ---------------------------- 0.4/1.4 MB 128.5 kB/s eta 0:00:09\n",
      "   ----------- ---------------------------- 0.4/1.4 MB 128.5 kB/s eta 0:00:09\n",
      "   ----------- ---------------------------- 0.4/1.4 MB 128.5 kB/s eta 0:00:09\n",
      "   ----------- ---------------------------- 0.4/1.4 MB 128.5 kB/s eta 0:00:09\n",
      "   ----------- ---------------------------- 0.4/1.4 MB 128.5 kB/s eta 0:00:09\n",
      "   ----------- ---------------------------- 0.4/1.4 MB 128.5 kB/s eta 0:00:09\n",
      "   ----------- ---------------------------- 0.4/1.4 MB 128.5 kB/s eta 0:00:09\n",
      "   ----------- ---------------------------- 0.4/1.4 MB 86.1 kB/s eta 0:00:12\n",
      "   ----------- ---------------------------- 0.4/1.4 MB 86.1 kB/s eta 0:00:12\n",
      "   ----------- ---------------------------- 0.4/1.4 MB 86.1 kB/s eta 0:00:12\n",
      "   ----------- ---------------------------- 0.4/1.4 MB 86.1 kB/s eta 0:00:12\n",
      "   ----------- ---------------------------- 0.4/1.4 MB 86.1 kB/s eta 0:00:12\n",
      "   ----------- ---------------------------- 0.4/1.4 MB 86.1 kB/s eta 0:00:12\n",
      "   ----------- ---------------------------- 0.4/1.4 MB 86.1 kB/s eta 0:00:12\n",
      "   ------------ --------------------------- 0.5/1.4 MB 83.9 kB/s eta 0:00:12\n",
      "   ------------ --------------------------- 0.5/1.4 MB 83.9 kB/s eta 0:00:12\n",
      "   ------------ --------------------------- 0.5/1.4 MB 83.9 kB/s eta 0:00:12\n",
      "   ------------ --------------------------- 0.5/1.4 MB 83.9 kB/s eta 0:00:12\n",
      "   ------------ --------------------------- 0.5/1.4 MB 83.9 kB/s eta 0:00:12\n",
      "   ------------ --------------------------- 0.5/1.4 MB 83.9 kB/s eta 0:00:12\n",
      "   ------------ --------------------------- 0.5/1.4 MB 83.9 kB/s eta 0:00:12\n",
      "   ------------ --------------------------- 0.5/1.4 MB 80.5 kB/s eta 0:00:13\n",
      "   ------------ --------------------------- 0.5/1.4 MB 80.5 kB/s eta 0:00:13\n",
      "   ------------ --------------------------- 0.5/1.4 MB 80.5 kB/s eta 0:00:13\n",
      "   ------------ --------------------------- 0.5/1.4 MB 80.5 kB/s eta 0:00:13\n",
      "   ------------- -------------------------- 0.5/1.4 MB 81.7 kB/s eta 0:00:12\n",
      "   ------------- -------------------------- 0.5/1.4 MB 81.7 kB/s eta 0:00:12\n",
      "   ------------- -------------------------- 0.5/1.4 MB 81.7 kB/s eta 0:00:12\n",
      "   ------------- -------------------------- 0.5/1.4 MB 81.1 kB/s eta 0:00:12\n",
      "   ------------- -------------------------- 0.5/1.4 MB 81.1 kB/s eta 0:00:12\n",
      "   ------------- -------------------------- 0.5/1.4 MB 81.1 kB/s eta 0:00:12\n",
      "   ------------- -------------------------- 0.5/1.4 MB 81.1 kB/s eta 0:00:12\n",
      "   -------------- ------------------------- 0.5/1.4 MB 82.1 kB/s eta 0:00:12\n",
      "   -------------- ------------------------- 0.5/1.4 MB 82.1 kB/s eta 0:00:12\n",
      "   -------------- ------------------------- 0.5/1.4 MB 82.1 kB/s eta 0:00:12\n",
      "   -------------- ------------------------- 0.5/1.4 MB 82.9 kB/s eta 0:00:12\n",
      "   -------------- ------------------------- 0.5/1.4 MB 82.9 kB/s eta 0:00:12\n",
      "   -------------- ------------------------- 0.5/1.4 MB 82.9 kB/s eta 0:00:12\n",
      "   -------------- ------------------------- 0.5/1.4 MB 82.9 kB/s eta 0:00:11\n",
      "   -------------- ------------------------- 0.5/1.4 MB 82.9 kB/s eta 0:00:11\n",
      "   --------------- ------------------------ 0.6/1.4 MB 84.5 kB/s eta 0:00:11\n",
      "   --------------- ------------------------ 0.6/1.4 MB 84.5 kB/s eta 0:00:11\n",
      "   --------------- ------------------------ 0.6/1.4 MB 84.4 kB/s eta 0:00:11\n",
      "   --------------- ------------------------ 0.6/1.4 MB 84.4 kB/s eta 0:00:11\n",
      "   ---------------- ----------------------- 0.6/1.4 MB 86.3 kB/s eta 0:00:10\n",
      "   ---------------- ----------------------- 0.6/1.4 MB 86.3 kB/s eta 0:00:10\n",
      "   ---------------- ----------------------- 0.6/1.4 MB 88.3 kB/s eta 0:00:10\n",
      "   ---------------- ----------------------- 0.6/1.4 MB 88.3 kB/s eta 0:00:10\n",
      "   ----------------- ---------------------- 0.6/1.4 MB 87.8 kB/s eta 0:00:10\n",
      "   ----------------- ---------------------- 0.6/1.4 MB 89.9 kB/s eta 0:00:09\n",
      "   ------------------ --------------------- 0.7/1.4 MB 90.4 kB/s eta 0:00:09\n",
      "   ------------------ --------------------- 0.7/1.4 MB 90.4 kB/s eta 0:00:09\n",
      "   ------------------ --------------------- 0.7/1.4 MB 92.2 kB/s eta 0:00:09\n",
      "   ------------------- -------------------- 0.7/1.4 MB 93.8 kB/s eta 0:00:09\n",
      "   ------------------- -------------------- 0.7/1.4 MB 93.8 kB/s eta 0:00:09\n",
      "   ------------------- -------------------- 0.7/1.4 MB 94.4 kB/s eta 0:00:08\n",
      "   -------------------- ------------------- 0.7/1.4 MB 96.0 kB/s eta 0:00:08\n",
      "   -------------------- ------------------- 0.7/1.4 MB 96.0 kB/s eta 0:00:08\n",
      "   -------------------- ------------------- 0.7/1.4 MB 96.5 kB/s eta 0:00:08\n",
      "   -------------------- ------------------- 0.8/1.4 MB 98.4 kB/s eta 0:00:08\n",
      "   -------------------- ------------------- 0.8/1.4 MB 98.4 kB/s eta 0:00:08\n",
      "   --------------------- ------------------ 0.8/1.4 MB 100.1 kB/s eta 0:00:07\n",
      "   --------------------- ------------------ 0.8/1.4 MB 100.1 kB/s eta 0:00:07\n",
      "   --------------------- ------------------ 0.8/1.4 MB 100.1 kB/s eta 0:00:07\n",
      "   ---------------------- ----------------- 0.8/1.4 MB 102.0 kB/s eta 0:00:07\n",
      "   ---------------------- ----------------- 0.8/1.4 MB 102.9 kB/s eta 0:00:07\n",
      "   ----------------------- ---------------- 0.8/1.4 MB 104.9 kB/s eta 0:00:06\n",
      "   ----------------------- ---------------- 0.9/1.4 MB 106.7 kB/s eta 0:00:06\n",
      "   ------------------------ --------------- 0.9/1.4 MB 107.1 kB/s eta 0:00:06\n",
      "   ------------------------ --------------- 0.9/1.4 MB 108.8 kB/s eta 0:00:06\n",
      "   ------------------------ --------------- 0.9/1.4 MB 109.4 kB/s eta 0:00:06\n",
      "   ------------------------- -------------- 0.9/1.4 MB 111.3 kB/s eta 0:00:05\n",
      "   ------------------------- -------------- 0.9/1.4 MB 113.0 kB/s eta 0:00:05\n",
      "   -------------------------- ------------- 1.0/1.4 MB 113.5 kB/s eta 0:00:05\n",
      "   -------------------------- ------------- 1.0/1.4 MB 115.4 kB/s eta 0:00:05\n",
      "   --------------------------- ------------ 1.0/1.4 MB 115.9 kB/s eta 0:00:05\n",
      "   --------------------------- ------------ 1.0/1.4 MB 116.5 kB/s eta 0:00:04\n",
      "   --------------------------- ------------ 1.0/1.4 MB 118.3 kB/s eta 0:00:04\n",
      "   ---------------------------- ----------- 1.0/1.4 MB 120.6 kB/s eta 0:00:04\n",
      "   ---------------------------- ----------- 1.0/1.4 MB 120.6 kB/s eta 0:00:04\n",
      "   ----------------------------- ---------- 1.1/1.4 MB 122.3 kB/s eta 0:00:04\n",
      "   ----------------------------- ---------- 1.1/1.4 MB 122.8 kB/s eta 0:00:04\n",
      "   ------------------------------ --------- 1.1/1.4 MB 124.3 kB/s eta 0:00:03\n",
      "   ------------------------------ --------- 1.1/1.4 MB 125.9 kB/s eta 0:00:03\n",
      "   ------------------------------- -------- 1.1/1.4 MB 128.3 kB/s eta 0:00:03\n",
      "   ------------------------------- -------- 1.2/1.4 MB 128.8 kB/s eta 0:00:03\n",
      "   -------------------------------- ------- 1.2/1.4 MB 130.2 kB/s eta 0:00:03\n",
      "   --------------------------------- ------ 1.2/1.4 MB 132.0 kB/s eta 0:00:02\n",
      "   --------------------------------- ------ 1.2/1.4 MB 132.7 kB/s eta 0:00:02\n",
      "   --------------------------------- ------ 1.2/1.4 MB 134.0 kB/s eta 0:00:02\n",
      "   ---------------------------------- ----- 1.2/1.4 MB 134.7 kB/s eta 0:00:02\n",
      "   ----------------------------------- ---- 1.3/1.4 MB 138.0 kB/s eta 0:00:02\n",
      "   ----------------------------------- ---- 1.3/1.4 MB 138.6 kB/s eta 0:00:02\n",
      "   ------------------------------------ --- 1.3/1.4 MB 140.8 kB/s eta 0:00:01\n",
      "   ------------------------------------- -- 1.3/1.4 MB 142.5 kB/s eta 0:00:01\n",
      "   ------------------------------------- -- 1.4/1.4 MB 143.9 kB/s eta 0:00:01\n",
      "   -------------------------------------- - 1.4/1.4 MB 146.2 kB/s eta 0:00:01\n",
      "   -------------------------------------- - 1.4/1.4 MB 146.6 kB/s eta 0:00:01\n",
      "   ---------------------------------------  1.4/1.4 MB 148.3 kB/s eta 0:00:01\n",
      "   ---------------------------------------  1.4/1.4 MB 149.7 kB/s eta 0:00:01\n",
      "   ---------------------------------------  1.4/1.4 MB 149.7 kB/s eta 0:00:01\n",
      "   ---------------------------------------  1.4/1.4 MB 149.7 kB/s eta 0:00:01\n",
      "   ---------------------------------------  1.4/1.4 MB 149.7 kB/s eta 0:00:01\n",
      "   ---------------------------------------- 1.4/1.4 MB 146.9 kB/s eta 0:00:00\n",
      "Installing collected packages: mlxtend\n",
      "Successfully installed mlxtend-0.23.0\n"
     ]
    }
   ],
   "source": [
    "!pip install mlxtend\n"
   ]
  },
  {
   "cell_type": "code",
   "execution_count": 2,
   "id": "22e26b7f",
   "metadata": {},
   "outputs": [
    {
     "data": {
      "text/html": [
       "<div>\n",
       "<style scoped>\n",
       "    .dataframe tbody tr th:only-of-type {\n",
       "        vertical-align: middle;\n",
       "    }\n",
       "\n",
       "    .dataframe tbody tr th {\n",
       "        vertical-align: top;\n",
       "    }\n",
       "\n",
       "    .dataframe thead th {\n",
       "        text-align: right;\n",
       "    }\n",
       "</style>\n",
       "<table border=\"1\" class=\"dataframe\">\n",
       "  <thead>\n",
       "    <tr style=\"text-align: right;\">\n",
       "      <th></th>\n",
       "      <th>label</th>\n",
       "      <th>time</th>\n",
       "      <th>date</th>\n",
       "      <th>query</th>\n",
       "      <th>username</th>\n",
       "      <th>text</th>\n",
       "    </tr>\n",
       "  </thead>\n",
       "  <tbody>\n",
       "    <tr>\n",
       "      <th>0</th>\n",
       "      <td>0</td>\n",
       "      <td>1467810672</td>\n",
       "      <td>Mon Apr 06 22:19:49 PDT 2009</td>\n",
       "      <td>NO_QUERY</td>\n",
       "      <td>scotthamilton</td>\n",
       "      <td>is upset that he can't update his Facebook by ...</td>\n",
       "    </tr>\n",
       "    <tr>\n",
       "      <th>1</th>\n",
       "      <td>0</td>\n",
       "      <td>1467810917</td>\n",
       "      <td>Mon Apr 06 22:19:53 PDT 2009</td>\n",
       "      <td>NO_QUERY</td>\n",
       "      <td>mattycus</td>\n",
       "      <td>@Kenichan I dived many times for the ball. Man...</td>\n",
       "    </tr>\n",
       "    <tr>\n",
       "      <th>2</th>\n",
       "      <td>0</td>\n",
       "      <td>1467811184</td>\n",
       "      <td>Mon Apr 06 22:19:57 PDT 2009</td>\n",
       "      <td>NO_QUERY</td>\n",
       "      <td>ElleCTF</td>\n",
       "      <td>my whole body feels itchy and like its on fire</td>\n",
       "    </tr>\n",
       "    <tr>\n",
       "      <th>3</th>\n",
       "      <td>0</td>\n",
       "      <td>1467811193</td>\n",
       "      <td>Mon Apr 06 22:19:57 PDT 2009</td>\n",
       "      <td>NO_QUERY</td>\n",
       "      <td>Karoli</td>\n",
       "      <td>@nationwideclass no, it's not behaving at all....</td>\n",
       "    </tr>\n",
       "    <tr>\n",
       "      <th>4</th>\n",
       "      <td>0</td>\n",
       "      <td>1467811372</td>\n",
       "      <td>Mon Apr 06 22:20:00 PDT 2009</td>\n",
       "      <td>NO_QUERY</td>\n",
       "      <td>joy_wolf</td>\n",
       "      <td>@Kwesidei not the whole crew</td>\n",
       "    </tr>\n",
       "  </tbody>\n",
       "</table>\n",
       "</div>"
      ],
      "text/plain": [
       "   label        time                          date     query       username  \\\n",
       "0      0  1467810672  Mon Apr 06 22:19:49 PDT 2009  NO_QUERY  scotthamilton   \n",
       "1      0  1467810917  Mon Apr 06 22:19:53 PDT 2009  NO_QUERY       mattycus   \n",
       "2      0  1467811184  Mon Apr 06 22:19:57 PDT 2009  NO_QUERY        ElleCTF   \n",
       "3      0  1467811193  Mon Apr 06 22:19:57 PDT 2009  NO_QUERY         Karoli   \n",
       "4      0  1467811372  Mon Apr 06 22:20:00 PDT 2009  NO_QUERY       joy_wolf   \n",
       "\n",
       "                                                text  \n",
       "0  is upset that he can't update his Facebook by ...  \n",
       "1  @Kenichan I dived many times for the ball. Man...  \n",
       "2    my whole body feels itchy and like its on fire   \n",
       "3  @nationwideclass no, it's not behaving at all....  \n",
       "4                      @Kwesidei not the whole crew   "
      ]
     },
     "execution_count": 2,
     "metadata": {},
     "output_type": "execute_result"
    }
   ],
   "source": [
    "data = pd.read_csv(\"training.csv\", encoding = \"ISO-8859-1\", engine=\"python\")\n",
    "data.columns = [\"label\", \"time\", \"date\", \"query\", \"username\", \"text\"]\n",
    "data.head()"
   ]
  },
  {
   "cell_type": "code",
   "execution_count": 3,
   "id": "93af03c3",
   "metadata": {},
   "outputs": [
    {
     "name": "stdout",
     "output_type": "stream",
     "text": [
      "lenght of data is 1599999\n"
     ]
    }
   ],
   "source": [
    "print('lenght of data is', len(data))"
   ]
  },
  {
   "cell_type": "code",
   "execution_count": 4,
   "id": "0ee15961",
   "metadata": {},
   "outputs": [
    {
     "name": "stdout",
     "output_type": "stream",
     "text": [
      "<class 'pandas.core.frame.DataFrame'>\n",
      "RangeIndex: 1599999 entries, 0 to 1599998\n",
      "Data columns (total 6 columns):\n",
      " #   Column    Non-Null Count    Dtype \n",
      "---  ------    --------------    ----- \n",
      " 0   label     1599999 non-null  int64 \n",
      " 1   time      1599999 non-null  int64 \n",
      " 2   date      1599999 non-null  object\n",
      " 3   query     1599999 non-null  object\n",
      " 4   username  1599999 non-null  object\n",
      " 5   text      1599999 non-null  object\n",
      "dtypes: int64(2), object(4)\n",
      "memory usage: 73.2+ MB\n"
     ]
    }
   ],
   "source": [
    "data.info()"
   ]
  },
  {
   "cell_type": "code",
   "execution_count": 5,
   "id": "e49747db",
   "metadata": {},
   "outputs": [
    {
     "data": {
      "text/plain": [
       "0"
      ]
     },
     "execution_count": 5,
     "metadata": {},
     "output_type": "execute_result"
    }
   ],
   "source": [
    "np.sum(data.isnull().any(axis=1))"
   ]
  },
  {
   "cell_type": "code",
   "execution_count": 6,
   "id": "6a96fdfb",
   "metadata": {},
   "outputs": [
    {
     "name": "stdout",
     "output_type": "stream",
     "text": [
      "<class 'pandas.core.frame.DataFrame'>\n",
      "RangeIndex: 1599999 entries, 0 to 1599998\n",
      "Data columns (total 2 columns):\n",
      " #   Column  Non-Null Count    Dtype \n",
      "---  ------  --------------    ----- \n",
      " 0   text    1599999 non-null  object\n",
      " 1   label   1599999 non-null  int64 \n",
      "dtypes: int64(1), object(1)\n",
      "memory usage: 24.4+ MB\n"
     ]
    }
   ],
   "source": [
    "#Data Preparation\n",
    "data=data[['text','label']]\n",
    "data.info()"
   ]
  },
  {
   "cell_type": "code",
   "execution_count": 7,
   "id": "bcc2c53a",
   "metadata": {},
   "outputs": [
    {
     "name": "stdout",
     "output_type": "stream",
     "text": [
      "<class 'pandas.core.frame.DataFrame'>\n",
      "RangeIndex: 1599999 entries, 0 to 1599998\n",
      "Data columns (total 2 columns):\n",
      " #   Column  Non-Null Count    Dtype \n",
      "---  ------  --------------    ----- \n",
      " 0   text    1599999 non-null  object\n",
      " 1   label   1599999 non-null  int64 \n",
      "dtypes: int64(1), object(1)\n",
      "memory usage: 24.4+ MB\n"
     ]
    }
   ],
   "source": [
    "data['label'][data['label']==4]=1\n",
    "data.info()"
   ]
  },
  {
   "cell_type": "code",
   "execution_count": 8,
   "id": "2afa7669",
   "metadata": {},
   "outputs": [
    {
     "name": "stdout",
     "output_type": "stream",
     "text": [
      "<class 'pandas.core.frame.DataFrame'>\n",
      "RangeIndex: 1599999 entries, 0 to 1599998\n",
      "Data columns (total 2 columns):\n",
      " #   Column  Non-Null Count    Dtype \n",
      "---  ------  --------------    ----- \n",
      " 0   text    1599999 non-null  object\n",
      " 1   label   1599999 non-null  int64 \n",
      "dtypes: int64(1), object(1)\n",
      "memory usage: 24.4+ MB\n"
     ]
    }
   ],
   "source": [
    "data_pos = data[data['label'] == 1]\n",
    "data_neg = data[data['label'] == 0]\n",
    "data.info()"
   ]
  },
  {
   "cell_type": "code",
   "execution_count": 42,
   "id": "e8dd7243",
   "metadata": {},
   "outputs": [
    {
     "name": "stdout",
     "output_type": "stream",
     "text": [
      "Positive Count: 800000\n",
      "Negative Count: 799999\n"
     ]
    }
   ],
   "source": [
    "positive_count = data[data['label'] == 1].shape[0]\n",
    "negative_count = data[data['label'] == 0].shape[0]\n",
    "print(\"Positive Count:\", positive_count)\n",
    "print(\"Negative Count:\", negative_count)"
   ]
  },
  {
   "cell_type": "code",
   "execution_count": 43,
   "id": "9977754e",
   "metadata": {},
   "outputs": [
    {
     "data": {
      "application/vnd.plotly.v1+json": {
       "config": {
        "plotlyServerURL": "https://plot.ly"
       },
       "data": [
        {
         "domain": {
          "x": [
           0,
           1
          ],
          "y": [
           0,
           1
          ]
         },
         "hovertemplate": "<b>%{hovertext}</b><br><br>label=%{label}<br>value=%{value}<extra></extra>",
         "hovertext": [
          "Negative",
          "Positive"
         ],
         "labels": [
          "Negative",
          "Positive"
         ],
         "legendgroup": "",
         "name": "",
         "opacity": 0.9,
         "showlegend": true,
         "type": "pie",
         "values": [
          800000,
          799999
         ]
        }
       ],
       "layout": {
        "legend": {
         "tracegroupgap": 0
        },
        "template": {
         "data": {
          "bar": [
           {
            "error_x": {
             "color": "rgb(36,36,36)"
            },
            "error_y": {
             "color": "rgb(36,36,36)"
            },
            "marker": {
             "line": {
              "color": "white",
              "width": 0.5
             },
             "pattern": {
              "fillmode": "overlay",
              "size": 10,
              "solidity": 0.2
             }
            },
            "type": "bar"
           }
          ],
          "barpolar": [
           {
            "marker": {
             "line": {
              "color": "white",
              "width": 0.5
             },
             "pattern": {
              "fillmode": "overlay",
              "size": 10,
              "solidity": 0.2
             }
            },
            "type": "barpolar"
           }
          ],
          "carpet": [
           {
            "aaxis": {
             "endlinecolor": "rgb(36,36,36)",
             "gridcolor": "white",
             "linecolor": "white",
             "minorgridcolor": "white",
             "startlinecolor": "rgb(36,36,36)"
            },
            "baxis": {
             "endlinecolor": "rgb(36,36,36)",
             "gridcolor": "white",
             "linecolor": "white",
             "minorgridcolor": "white",
             "startlinecolor": "rgb(36,36,36)"
            },
            "type": "carpet"
           }
          ],
          "choropleth": [
           {
            "colorbar": {
             "outlinewidth": 1,
             "tickcolor": "rgb(36,36,36)",
             "ticks": "outside"
            },
            "type": "choropleth"
           }
          ],
          "contour": [
           {
            "colorbar": {
             "outlinewidth": 1,
             "tickcolor": "rgb(36,36,36)",
             "ticks": "outside"
            },
            "colorscale": [
             [
              0,
              "#440154"
             ],
             [
              0.1111111111111111,
              "#482878"
             ],
             [
              0.2222222222222222,
              "#3e4989"
             ],
             [
              0.3333333333333333,
              "#31688e"
             ],
             [
              0.4444444444444444,
              "#26828e"
             ],
             [
              0.5555555555555556,
              "#1f9e89"
             ],
             [
              0.6666666666666666,
              "#35b779"
             ],
             [
              0.7777777777777778,
              "#6ece58"
             ],
             [
              0.8888888888888888,
              "#b5de2b"
             ],
             [
              1,
              "#fde725"
             ]
            ],
            "type": "contour"
           }
          ],
          "contourcarpet": [
           {
            "colorbar": {
             "outlinewidth": 1,
             "tickcolor": "rgb(36,36,36)",
             "ticks": "outside"
            },
            "type": "contourcarpet"
           }
          ],
          "heatmap": [
           {
            "colorbar": {
             "outlinewidth": 1,
             "tickcolor": "rgb(36,36,36)",
             "ticks": "outside"
            },
            "colorscale": [
             [
              0,
              "#440154"
             ],
             [
              0.1111111111111111,
              "#482878"
             ],
             [
              0.2222222222222222,
              "#3e4989"
             ],
             [
              0.3333333333333333,
              "#31688e"
             ],
             [
              0.4444444444444444,
              "#26828e"
             ],
             [
              0.5555555555555556,
              "#1f9e89"
             ],
             [
              0.6666666666666666,
              "#35b779"
             ],
             [
              0.7777777777777778,
              "#6ece58"
             ],
             [
              0.8888888888888888,
              "#b5de2b"
             ],
             [
              1,
              "#fde725"
             ]
            ],
            "type": "heatmap"
           }
          ],
          "heatmapgl": [
           {
            "colorbar": {
             "outlinewidth": 1,
             "tickcolor": "rgb(36,36,36)",
             "ticks": "outside"
            },
            "colorscale": [
             [
              0,
              "#440154"
             ],
             [
              0.1111111111111111,
              "#482878"
             ],
             [
              0.2222222222222222,
              "#3e4989"
             ],
             [
              0.3333333333333333,
              "#31688e"
             ],
             [
              0.4444444444444444,
              "#26828e"
             ],
             [
              0.5555555555555556,
              "#1f9e89"
             ],
             [
              0.6666666666666666,
              "#35b779"
             ],
             [
              0.7777777777777778,
              "#6ece58"
             ],
             [
              0.8888888888888888,
              "#b5de2b"
             ],
             [
              1,
              "#fde725"
             ]
            ],
            "type": "heatmapgl"
           }
          ],
          "histogram": [
           {
            "marker": {
             "line": {
              "color": "white",
              "width": 0.6
             }
            },
            "type": "histogram"
           }
          ],
          "histogram2d": [
           {
            "colorbar": {
             "outlinewidth": 1,
             "tickcolor": "rgb(36,36,36)",
             "ticks": "outside"
            },
            "colorscale": [
             [
              0,
              "#440154"
             ],
             [
              0.1111111111111111,
              "#482878"
             ],
             [
              0.2222222222222222,
              "#3e4989"
             ],
             [
              0.3333333333333333,
              "#31688e"
             ],
             [
              0.4444444444444444,
              "#26828e"
             ],
             [
              0.5555555555555556,
              "#1f9e89"
             ],
             [
              0.6666666666666666,
              "#35b779"
             ],
             [
              0.7777777777777778,
              "#6ece58"
             ],
             [
              0.8888888888888888,
              "#b5de2b"
             ],
             [
              1,
              "#fde725"
             ]
            ],
            "type": "histogram2d"
           }
          ],
          "histogram2dcontour": [
           {
            "colorbar": {
             "outlinewidth": 1,
             "tickcolor": "rgb(36,36,36)",
             "ticks": "outside"
            },
            "colorscale": [
             [
              0,
              "#440154"
             ],
             [
              0.1111111111111111,
              "#482878"
             ],
             [
              0.2222222222222222,
              "#3e4989"
             ],
             [
              0.3333333333333333,
              "#31688e"
             ],
             [
              0.4444444444444444,
              "#26828e"
             ],
             [
              0.5555555555555556,
              "#1f9e89"
             ],
             [
              0.6666666666666666,
              "#35b779"
             ],
             [
              0.7777777777777778,
              "#6ece58"
             ],
             [
              0.8888888888888888,
              "#b5de2b"
             ],
             [
              1,
              "#fde725"
             ]
            ],
            "type": "histogram2dcontour"
           }
          ],
          "mesh3d": [
           {
            "colorbar": {
             "outlinewidth": 1,
             "tickcolor": "rgb(36,36,36)",
             "ticks": "outside"
            },
            "type": "mesh3d"
           }
          ],
          "parcoords": [
           {
            "line": {
             "colorbar": {
              "outlinewidth": 1,
              "tickcolor": "rgb(36,36,36)",
              "ticks": "outside"
             }
            },
            "type": "parcoords"
           }
          ],
          "pie": [
           {
            "automargin": true,
            "type": "pie"
           }
          ],
          "scatter": [
           {
            "fillpattern": {
             "fillmode": "overlay",
             "size": 10,
             "solidity": 0.2
            },
            "type": "scatter"
           }
          ],
          "scatter3d": [
           {
            "line": {
             "colorbar": {
              "outlinewidth": 1,
              "tickcolor": "rgb(36,36,36)",
              "ticks": "outside"
             }
            },
            "marker": {
             "colorbar": {
              "outlinewidth": 1,
              "tickcolor": "rgb(36,36,36)",
              "ticks": "outside"
             }
            },
            "type": "scatter3d"
           }
          ],
          "scattercarpet": [
           {
            "marker": {
             "colorbar": {
              "outlinewidth": 1,
              "tickcolor": "rgb(36,36,36)",
              "ticks": "outside"
             }
            },
            "type": "scattercarpet"
           }
          ],
          "scattergeo": [
           {
            "marker": {
             "colorbar": {
              "outlinewidth": 1,
              "tickcolor": "rgb(36,36,36)",
              "ticks": "outside"
             }
            },
            "type": "scattergeo"
           }
          ],
          "scattergl": [
           {
            "marker": {
             "colorbar": {
              "outlinewidth": 1,
              "tickcolor": "rgb(36,36,36)",
              "ticks": "outside"
             }
            },
            "type": "scattergl"
           }
          ],
          "scattermapbox": [
           {
            "marker": {
             "colorbar": {
              "outlinewidth": 1,
              "tickcolor": "rgb(36,36,36)",
              "ticks": "outside"
             }
            },
            "type": "scattermapbox"
           }
          ],
          "scatterpolar": [
           {
            "marker": {
             "colorbar": {
              "outlinewidth": 1,
              "tickcolor": "rgb(36,36,36)",
              "ticks": "outside"
             }
            },
            "type": "scatterpolar"
           }
          ],
          "scatterpolargl": [
           {
            "marker": {
             "colorbar": {
              "outlinewidth": 1,
              "tickcolor": "rgb(36,36,36)",
              "ticks": "outside"
             }
            },
            "type": "scatterpolargl"
           }
          ],
          "scatterternary": [
           {
            "marker": {
             "colorbar": {
              "outlinewidth": 1,
              "tickcolor": "rgb(36,36,36)",
              "ticks": "outside"
             }
            },
            "type": "scatterternary"
           }
          ],
          "surface": [
           {
            "colorbar": {
             "outlinewidth": 1,
             "tickcolor": "rgb(36,36,36)",
             "ticks": "outside"
            },
            "colorscale": [
             [
              0,
              "#440154"
             ],
             [
              0.1111111111111111,
              "#482878"
             ],
             [
              0.2222222222222222,
              "#3e4989"
             ],
             [
              0.3333333333333333,
              "#31688e"
             ],
             [
              0.4444444444444444,
              "#26828e"
             ],
             [
              0.5555555555555556,
              "#1f9e89"
             ],
             [
              0.6666666666666666,
              "#35b779"
             ],
             [
              0.7777777777777778,
              "#6ece58"
             ],
             [
              0.8888888888888888,
              "#b5de2b"
             ],
             [
              1,
              "#fde725"
             ]
            ],
            "type": "surface"
           }
          ],
          "table": [
           {
            "cells": {
             "fill": {
              "color": "rgb(237,237,237)"
             },
             "line": {
              "color": "white"
             }
            },
            "header": {
             "fill": {
              "color": "rgb(217,217,217)"
             },
             "line": {
              "color": "white"
             }
            },
            "type": "table"
           }
          ]
         },
         "layout": {
          "annotationdefaults": {
           "arrowhead": 0,
           "arrowwidth": 1
          },
          "autotypenumbers": "strict",
          "coloraxis": {
           "colorbar": {
            "outlinewidth": 1,
            "tickcolor": "rgb(36,36,36)",
            "ticks": "outside"
           }
          },
          "colorscale": {
           "diverging": [
            [
             0,
             "rgb(103,0,31)"
            ],
            [
             0.1,
             "rgb(178,24,43)"
            ],
            [
             0.2,
             "rgb(214,96,77)"
            ],
            [
             0.3,
             "rgb(244,165,130)"
            ],
            [
             0.4,
             "rgb(253,219,199)"
            ],
            [
             0.5,
             "rgb(247,247,247)"
            ],
            [
             0.6,
             "rgb(209,229,240)"
            ],
            [
             0.7,
             "rgb(146,197,222)"
            ],
            [
             0.8,
             "rgb(67,147,195)"
            ],
            [
             0.9,
             "rgb(33,102,172)"
            ],
            [
             1,
             "rgb(5,48,97)"
            ]
           ],
           "sequential": [
            [
             0,
             "#440154"
            ],
            [
             0.1111111111111111,
             "#482878"
            ],
            [
             0.2222222222222222,
             "#3e4989"
            ],
            [
             0.3333333333333333,
             "#31688e"
            ],
            [
             0.4444444444444444,
             "#26828e"
            ],
            [
             0.5555555555555556,
             "#1f9e89"
            ],
            [
             0.6666666666666666,
             "#35b779"
            ],
            [
             0.7777777777777778,
             "#6ece58"
            ],
            [
             0.8888888888888888,
             "#b5de2b"
            ],
            [
             1,
             "#fde725"
            ]
           ],
           "sequentialminus": [
            [
             0,
             "#440154"
            ],
            [
             0.1111111111111111,
             "#482878"
            ],
            [
             0.2222222222222222,
             "#3e4989"
            ],
            [
             0.3333333333333333,
             "#31688e"
            ],
            [
             0.4444444444444444,
             "#26828e"
            ],
            [
             0.5555555555555556,
             "#1f9e89"
            ],
            [
             0.6666666666666666,
             "#35b779"
            ],
            [
             0.7777777777777778,
             "#6ece58"
            ],
            [
             0.8888888888888888,
             "#b5de2b"
            ],
            [
             1,
             "#fde725"
            ]
           ]
          },
          "colorway": [
           "#1F77B4",
           "#FF7F0E",
           "#2CA02C",
           "#D62728",
           "#9467BD",
           "#8C564B",
           "#E377C2",
           "#7F7F7F",
           "#BCBD22",
           "#17BECF"
          ],
          "font": {
           "color": "rgb(36,36,36)"
          },
          "geo": {
           "bgcolor": "white",
           "lakecolor": "white",
           "landcolor": "white",
           "showlakes": true,
           "showland": true,
           "subunitcolor": "white"
          },
          "hoverlabel": {
           "align": "left"
          },
          "hovermode": "closest",
          "mapbox": {
           "style": "light"
          },
          "paper_bgcolor": "white",
          "plot_bgcolor": "white",
          "polar": {
           "angularaxis": {
            "gridcolor": "rgb(232,232,232)",
            "linecolor": "rgb(36,36,36)",
            "showgrid": false,
            "showline": true,
            "ticks": "outside"
           },
           "bgcolor": "white",
           "radialaxis": {
            "gridcolor": "rgb(232,232,232)",
            "linecolor": "rgb(36,36,36)",
            "showgrid": false,
            "showline": true,
            "ticks": "outside"
           }
          },
          "scene": {
           "xaxis": {
            "backgroundcolor": "white",
            "gridcolor": "rgb(232,232,232)",
            "gridwidth": 2,
            "linecolor": "rgb(36,36,36)",
            "showbackground": true,
            "showgrid": false,
            "showline": true,
            "ticks": "outside",
            "zeroline": false,
            "zerolinecolor": "rgb(36,36,36)"
           },
           "yaxis": {
            "backgroundcolor": "white",
            "gridcolor": "rgb(232,232,232)",
            "gridwidth": 2,
            "linecolor": "rgb(36,36,36)",
            "showbackground": true,
            "showgrid": false,
            "showline": true,
            "ticks": "outside",
            "zeroline": false,
            "zerolinecolor": "rgb(36,36,36)"
           },
           "zaxis": {
            "backgroundcolor": "white",
            "gridcolor": "rgb(232,232,232)",
            "gridwidth": 2,
            "linecolor": "rgb(36,36,36)",
            "showbackground": true,
            "showgrid": false,
            "showline": true,
            "ticks": "outside",
            "zeroline": false,
            "zerolinecolor": "rgb(36,36,36)"
           }
          },
          "shapedefaults": {
           "fillcolor": "black",
           "line": {
            "width": 0
           },
           "opacity": 0.3
          },
          "ternary": {
           "aaxis": {
            "gridcolor": "rgb(232,232,232)",
            "linecolor": "rgb(36,36,36)",
            "showgrid": false,
            "showline": true,
            "ticks": "outside"
           },
           "baxis": {
            "gridcolor": "rgb(232,232,232)",
            "linecolor": "rgb(36,36,36)",
            "showgrid": false,
            "showline": true,
            "ticks": "outside"
           },
           "bgcolor": "white",
           "caxis": {
            "gridcolor": "rgb(232,232,232)",
            "linecolor": "rgb(36,36,36)",
            "showgrid": false,
            "showline": true,
            "ticks": "outside"
           }
          },
          "title": {
           "x": 0.05
          },
          "xaxis": {
           "automargin": true,
           "gridcolor": "rgb(232,232,232)",
           "linecolor": "rgb(36,36,36)",
           "showgrid": false,
           "showline": true,
           "ticks": "outside",
           "title": {
            "standoff": 15
           },
           "zeroline": false,
           "zerolinecolor": "rgb(36,36,36)"
          },
          "yaxis": {
           "automargin": true,
           "gridcolor": "rgb(232,232,232)",
           "linecolor": "rgb(36,36,36)",
           "showgrid": false,
           "showline": true,
           "ticks": "outside",
           "title": {
            "standoff": 15
           },
           "zeroline": false,
           "zerolinecolor": "rgb(36,36,36)"
          }
         }
        },
        "title": {
         "text": "Distribution of Positive and Negative Tweets"
        }
       }
      },
      "text/html": [
       "<div>                            <div id=\"9559a61b-e62d-4f1a-9017-1f5e8d42792f\" class=\"plotly-graph-div\" style=\"height:525px; width:100%;\"></div>            <script type=\"text/javascript\">                require([\"plotly\"], function(Plotly) {                    window.PLOTLYENV=window.PLOTLYENV || {};                                    if (document.getElementById(\"9559a61b-e62d-4f1a-9017-1f5e8d42792f\")) {                    Plotly.newPlot(                        \"9559a61b-e62d-4f1a-9017-1f5e8d42792f\",                        [{\"domain\":{\"x\":[0.0,1.0],\"y\":[0.0,1.0]},\"hovertemplate\":\"<b>%{hovertext}</b><br><br>label=%{label}<br>value=%{value}<extra></extra>\",\"hovertext\":[\"Negative\",\"Positive\"],\"labels\":[\"Negative\",\"Positive\"],\"legendgroup\":\"\",\"name\":\"\",\"opacity\":0.9,\"showlegend\":true,\"values\":[800000,799999],\"type\":\"pie\"}],                        {\"template\":{\"data\":{\"barpolar\":[{\"marker\":{\"line\":{\"color\":\"white\",\"width\":0.5},\"pattern\":{\"fillmode\":\"overlay\",\"size\":10,\"solidity\":0.2}},\"type\":\"barpolar\"}],\"bar\":[{\"error_x\":{\"color\":\"rgb(36,36,36)\"},\"error_y\":{\"color\":\"rgb(36,36,36)\"},\"marker\":{\"line\":{\"color\":\"white\",\"width\":0.5},\"pattern\":{\"fillmode\":\"overlay\",\"size\":10,\"solidity\":0.2}},\"type\":\"bar\"}],\"carpet\":[{\"aaxis\":{\"endlinecolor\":\"rgb(36,36,36)\",\"gridcolor\":\"white\",\"linecolor\":\"white\",\"minorgridcolor\":\"white\",\"startlinecolor\":\"rgb(36,36,36)\"},\"baxis\":{\"endlinecolor\":\"rgb(36,36,36)\",\"gridcolor\":\"white\",\"linecolor\":\"white\",\"minorgridcolor\":\"white\",\"startlinecolor\":\"rgb(36,36,36)\"},\"type\":\"carpet\"}],\"choropleth\":[{\"colorbar\":{\"outlinewidth\":1,\"tickcolor\":\"rgb(36,36,36)\",\"ticks\":\"outside\"},\"type\":\"choropleth\"}],\"contourcarpet\":[{\"colorbar\":{\"outlinewidth\":1,\"tickcolor\":\"rgb(36,36,36)\",\"ticks\":\"outside\"},\"type\":\"contourcarpet\"}],\"contour\":[{\"colorbar\":{\"outlinewidth\":1,\"tickcolor\":\"rgb(36,36,36)\",\"ticks\":\"outside\"},\"colorscale\":[[0.0,\"#440154\"],[0.1111111111111111,\"#482878\"],[0.2222222222222222,\"#3e4989\"],[0.3333333333333333,\"#31688e\"],[0.4444444444444444,\"#26828e\"],[0.5555555555555556,\"#1f9e89\"],[0.6666666666666666,\"#35b779\"],[0.7777777777777778,\"#6ece58\"],[0.8888888888888888,\"#b5de2b\"],[1.0,\"#fde725\"]],\"type\":\"contour\"}],\"heatmapgl\":[{\"colorbar\":{\"outlinewidth\":1,\"tickcolor\":\"rgb(36,36,36)\",\"ticks\":\"outside\"},\"colorscale\":[[0.0,\"#440154\"],[0.1111111111111111,\"#482878\"],[0.2222222222222222,\"#3e4989\"],[0.3333333333333333,\"#31688e\"],[0.4444444444444444,\"#26828e\"],[0.5555555555555556,\"#1f9e89\"],[0.6666666666666666,\"#35b779\"],[0.7777777777777778,\"#6ece58\"],[0.8888888888888888,\"#b5de2b\"],[1.0,\"#fde725\"]],\"type\":\"heatmapgl\"}],\"heatmap\":[{\"colorbar\":{\"outlinewidth\":1,\"tickcolor\":\"rgb(36,36,36)\",\"ticks\":\"outside\"},\"colorscale\":[[0.0,\"#440154\"],[0.1111111111111111,\"#482878\"],[0.2222222222222222,\"#3e4989\"],[0.3333333333333333,\"#31688e\"],[0.4444444444444444,\"#26828e\"],[0.5555555555555556,\"#1f9e89\"],[0.6666666666666666,\"#35b779\"],[0.7777777777777778,\"#6ece58\"],[0.8888888888888888,\"#b5de2b\"],[1.0,\"#fde725\"]],\"type\":\"heatmap\"}],\"histogram2dcontour\":[{\"colorbar\":{\"outlinewidth\":1,\"tickcolor\":\"rgb(36,36,36)\",\"ticks\":\"outside\"},\"colorscale\":[[0.0,\"#440154\"],[0.1111111111111111,\"#482878\"],[0.2222222222222222,\"#3e4989\"],[0.3333333333333333,\"#31688e\"],[0.4444444444444444,\"#26828e\"],[0.5555555555555556,\"#1f9e89\"],[0.6666666666666666,\"#35b779\"],[0.7777777777777778,\"#6ece58\"],[0.8888888888888888,\"#b5de2b\"],[1.0,\"#fde725\"]],\"type\":\"histogram2dcontour\"}],\"histogram2d\":[{\"colorbar\":{\"outlinewidth\":1,\"tickcolor\":\"rgb(36,36,36)\",\"ticks\":\"outside\"},\"colorscale\":[[0.0,\"#440154\"],[0.1111111111111111,\"#482878\"],[0.2222222222222222,\"#3e4989\"],[0.3333333333333333,\"#31688e\"],[0.4444444444444444,\"#26828e\"],[0.5555555555555556,\"#1f9e89\"],[0.6666666666666666,\"#35b779\"],[0.7777777777777778,\"#6ece58\"],[0.8888888888888888,\"#b5de2b\"],[1.0,\"#fde725\"]],\"type\":\"histogram2d\"}],\"histogram\":[{\"marker\":{\"line\":{\"color\":\"white\",\"width\":0.6}},\"type\":\"histogram\"}],\"mesh3d\":[{\"colorbar\":{\"outlinewidth\":1,\"tickcolor\":\"rgb(36,36,36)\",\"ticks\":\"outside\"},\"type\":\"mesh3d\"}],\"parcoords\":[{\"line\":{\"colorbar\":{\"outlinewidth\":1,\"tickcolor\":\"rgb(36,36,36)\",\"ticks\":\"outside\"}},\"type\":\"parcoords\"}],\"pie\":[{\"automargin\":true,\"type\":\"pie\"}],\"scatter3d\":[{\"line\":{\"colorbar\":{\"outlinewidth\":1,\"tickcolor\":\"rgb(36,36,36)\",\"ticks\":\"outside\"}},\"marker\":{\"colorbar\":{\"outlinewidth\":1,\"tickcolor\":\"rgb(36,36,36)\",\"ticks\":\"outside\"}},\"type\":\"scatter3d\"}],\"scattercarpet\":[{\"marker\":{\"colorbar\":{\"outlinewidth\":1,\"tickcolor\":\"rgb(36,36,36)\",\"ticks\":\"outside\"}},\"type\":\"scattercarpet\"}],\"scattergeo\":[{\"marker\":{\"colorbar\":{\"outlinewidth\":1,\"tickcolor\":\"rgb(36,36,36)\",\"ticks\":\"outside\"}},\"type\":\"scattergeo\"}],\"scattergl\":[{\"marker\":{\"colorbar\":{\"outlinewidth\":1,\"tickcolor\":\"rgb(36,36,36)\",\"ticks\":\"outside\"}},\"type\":\"scattergl\"}],\"scattermapbox\":[{\"marker\":{\"colorbar\":{\"outlinewidth\":1,\"tickcolor\":\"rgb(36,36,36)\",\"ticks\":\"outside\"}},\"type\":\"scattermapbox\"}],\"scatterpolargl\":[{\"marker\":{\"colorbar\":{\"outlinewidth\":1,\"tickcolor\":\"rgb(36,36,36)\",\"ticks\":\"outside\"}},\"type\":\"scatterpolargl\"}],\"scatterpolar\":[{\"marker\":{\"colorbar\":{\"outlinewidth\":1,\"tickcolor\":\"rgb(36,36,36)\",\"ticks\":\"outside\"}},\"type\":\"scatterpolar\"}],\"scatter\":[{\"fillpattern\":{\"fillmode\":\"overlay\",\"size\":10,\"solidity\":0.2},\"type\":\"scatter\"}],\"scatterternary\":[{\"marker\":{\"colorbar\":{\"outlinewidth\":1,\"tickcolor\":\"rgb(36,36,36)\",\"ticks\":\"outside\"}},\"type\":\"scatterternary\"}],\"surface\":[{\"colorbar\":{\"outlinewidth\":1,\"tickcolor\":\"rgb(36,36,36)\",\"ticks\":\"outside\"},\"colorscale\":[[0.0,\"#440154\"],[0.1111111111111111,\"#482878\"],[0.2222222222222222,\"#3e4989\"],[0.3333333333333333,\"#31688e\"],[0.4444444444444444,\"#26828e\"],[0.5555555555555556,\"#1f9e89\"],[0.6666666666666666,\"#35b779\"],[0.7777777777777778,\"#6ece58\"],[0.8888888888888888,\"#b5de2b\"],[1.0,\"#fde725\"]],\"type\":\"surface\"}],\"table\":[{\"cells\":{\"fill\":{\"color\":\"rgb(237,237,237)\"},\"line\":{\"color\":\"white\"}},\"header\":{\"fill\":{\"color\":\"rgb(217,217,217)\"},\"line\":{\"color\":\"white\"}},\"type\":\"table\"}]},\"layout\":{\"annotationdefaults\":{\"arrowhead\":0,\"arrowwidth\":1},\"autotypenumbers\":\"strict\",\"coloraxis\":{\"colorbar\":{\"outlinewidth\":1,\"tickcolor\":\"rgb(36,36,36)\",\"ticks\":\"outside\"}},\"colorscale\":{\"diverging\":[[0.0,\"rgb(103,0,31)\"],[0.1,\"rgb(178,24,43)\"],[0.2,\"rgb(214,96,77)\"],[0.3,\"rgb(244,165,130)\"],[0.4,\"rgb(253,219,199)\"],[0.5,\"rgb(247,247,247)\"],[0.6,\"rgb(209,229,240)\"],[0.7,\"rgb(146,197,222)\"],[0.8,\"rgb(67,147,195)\"],[0.9,\"rgb(33,102,172)\"],[1.0,\"rgb(5,48,97)\"]],\"sequential\":[[0.0,\"#440154\"],[0.1111111111111111,\"#482878\"],[0.2222222222222222,\"#3e4989\"],[0.3333333333333333,\"#31688e\"],[0.4444444444444444,\"#26828e\"],[0.5555555555555556,\"#1f9e89\"],[0.6666666666666666,\"#35b779\"],[0.7777777777777778,\"#6ece58\"],[0.8888888888888888,\"#b5de2b\"],[1.0,\"#fde725\"]],\"sequentialminus\":[[0.0,\"#440154\"],[0.1111111111111111,\"#482878\"],[0.2222222222222222,\"#3e4989\"],[0.3333333333333333,\"#31688e\"],[0.4444444444444444,\"#26828e\"],[0.5555555555555556,\"#1f9e89\"],[0.6666666666666666,\"#35b779\"],[0.7777777777777778,\"#6ece58\"],[0.8888888888888888,\"#b5de2b\"],[1.0,\"#fde725\"]]},\"colorway\":[\"#1F77B4\",\"#FF7F0E\",\"#2CA02C\",\"#D62728\",\"#9467BD\",\"#8C564B\",\"#E377C2\",\"#7F7F7F\",\"#BCBD22\",\"#17BECF\"],\"font\":{\"color\":\"rgb(36,36,36)\"},\"geo\":{\"bgcolor\":\"white\",\"lakecolor\":\"white\",\"landcolor\":\"white\",\"showlakes\":true,\"showland\":true,\"subunitcolor\":\"white\"},\"hoverlabel\":{\"align\":\"left\"},\"hovermode\":\"closest\",\"mapbox\":{\"style\":\"light\"},\"paper_bgcolor\":\"white\",\"plot_bgcolor\":\"white\",\"polar\":{\"angularaxis\":{\"gridcolor\":\"rgb(232,232,232)\",\"linecolor\":\"rgb(36,36,36)\",\"showgrid\":false,\"showline\":true,\"ticks\":\"outside\"},\"bgcolor\":\"white\",\"radialaxis\":{\"gridcolor\":\"rgb(232,232,232)\",\"linecolor\":\"rgb(36,36,36)\",\"showgrid\":false,\"showline\":true,\"ticks\":\"outside\"}},\"scene\":{\"xaxis\":{\"backgroundcolor\":\"white\",\"gridcolor\":\"rgb(232,232,232)\",\"gridwidth\":2,\"linecolor\":\"rgb(36,36,36)\",\"showbackground\":true,\"showgrid\":false,\"showline\":true,\"ticks\":\"outside\",\"zeroline\":false,\"zerolinecolor\":\"rgb(36,36,36)\"},\"yaxis\":{\"backgroundcolor\":\"white\",\"gridcolor\":\"rgb(232,232,232)\",\"gridwidth\":2,\"linecolor\":\"rgb(36,36,36)\",\"showbackground\":true,\"showgrid\":false,\"showline\":true,\"ticks\":\"outside\",\"zeroline\":false,\"zerolinecolor\":\"rgb(36,36,36)\"},\"zaxis\":{\"backgroundcolor\":\"white\",\"gridcolor\":\"rgb(232,232,232)\",\"gridwidth\":2,\"linecolor\":\"rgb(36,36,36)\",\"showbackground\":true,\"showgrid\":false,\"showline\":true,\"ticks\":\"outside\",\"zeroline\":false,\"zerolinecolor\":\"rgb(36,36,36)\"}},\"shapedefaults\":{\"fillcolor\":\"black\",\"line\":{\"width\":0},\"opacity\":0.3},\"ternary\":{\"aaxis\":{\"gridcolor\":\"rgb(232,232,232)\",\"linecolor\":\"rgb(36,36,36)\",\"showgrid\":false,\"showline\":true,\"ticks\":\"outside\"},\"baxis\":{\"gridcolor\":\"rgb(232,232,232)\",\"linecolor\":\"rgb(36,36,36)\",\"showgrid\":false,\"showline\":true,\"ticks\":\"outside\"},\"bgcolor\":\"white\",\"caxis\":{\"gridcolor\":\"rgb(232,232,232)\",\"linecolor\":\"rgb(36,36,36)\",\"showgrid\":false,\"showline\":true,\"ticks\":\"outside\"}},\"title\":{\"x\":0.05},\"xaxis\":{\"automargin\":true,\"gridcolor\":\"rgb(232,232,232)\",\"linecolor\":\"rgb(36,36,36)\",\"showgrid\":false,\"showline\":true,\"ticks\":\"outside\",\"title\":{\"standoff\":15},\"zeroline\":false,\"zerolinecolor\":\"rgb(36,36,36)\"},\"yaxis\":{\"automargin\":true,\"gridcolor\":\"rgb(232,232,232)\",\"linecolor\":\"rgb(36,36,36)\",\"showgrid\":false,\"showline\":true,\"ticks\":\"outside\",\"title\":{\"standoff\":15},\"zeroline\":false,\"zerolinecolor\":\"rgb(36,36,36)\"}}},\"legend\":{\"tracegroupgap\":0},\"title\":{\"text\":\"Distribution of Positive and Negative Tweets\"}},                        {\"responsive\": true}                    ).then(function(){\n",
       "                            \n",
       "var gd = document.getElementById('9559a61b-e62d-4f1a-9017-1f5e8d42792f');\n",
       "var x = new MutationObserver(function (mutations, observer) {{\n",
       "        var display = window.getComputedStyle(gd).display;\n",
       "        if (!display || display === 'none') {{\n",
       "            console.log([gd, 'removed!']);\n",
       "            Plotly.purge(gd);\n",
       "            observer.disconnect();\n",
       "        }}\n",
       "}});\n",
       "\n",
       "// Listen for the removal of the full notebook cells\n",
       "var notebookContainer = gd.closest('#notebook-container');\n",
       "if (notebookContainer) {{\n",
       "    x.observe(notebookContainer, {childList: true});\n",
       "}}\n",
       "\n",
       "// Listen for the clearing of the current output cell\n",
       "var outputEl = gd.closest('.output');\n",
       "if (outputEl) {{\n",
       "    x.observe(outputEl, {childList: true});\n",
       "}}\n",
       "\n",
       "                        })                };                });            </script>        </div>"
      ]
     },
     "metadata": {},
     "output_type": "display_data"
    }
   ],
   "source": [
    "fig = px.pie(values=[data[data['label'] == 1].shape[0], negative_count], title='Distribution of Positive and Negative Tweets' , \n",
    "             names= ['Negative', 'Positive'], hover_name = ['Negative', 'Positive'] , opacity = .9, template = 'simple_white')\n",
    "\n",
    "fig.show()"
   ]
  },
  {
   "cell_type": "code",
   "execution_count": 11,
   "id": "bcfc9ffb",
   "metadata": {},
   "outputs": [
    {
     "name": "stdout",
     "output_type": "stream",
     "text": [
      "<class 'pandas.core.frame.DataFrame'>\n",
      "RangeIndex: 1599999 entries, 0 to 1599998\n",
      "Data columns (total 2 columns):\n",
      " #   Column  Non-Null Count    Dtype \n",
      "---  ------  --------------    ----- \n",
      " 0   text    1599999 non-null  object\n",
      " 1   label   1599999 non-null  int64 \n",
      "dtypes: int64(1), object(1)\n",
      "memory usage: 24.4+ MB\n"
     ]
    }
   ],
   "source": [
    "data_pos = data_pos.iloc[:int(20000)]\n",
    "data_neg = data_neg.iloc[:int(20000)]\n",
    "data.info()"
   ]
  },
  {
   "cell_type": "code",
   "execution_count": 12,
   "id": "1395ec11",
   "metadata": {},
   "outputs": [],
   "source": [
    "#data = pd.concat([data_pos, data_neg])\n",
    "#data.info()"
   ]
  },
  {
   "cell_type": "code",
   "execution_count": 13,
   "id": "bb23bfcb",
   "metadata": {},
   "outputs": [],
   "source": [
    "data['text']=data['text'].str.lower()"
   ]
  },
  {
   "cell_type": "code",
   "execution_count": 14,
   "id": "cc045729",
   "metadata": {},
   "outputs": [
    {
     "data": {
      "text/plain": [
       "1599994    just woke up. having no school is the best fee...\n",
       "1599995    thewdb.com - very cool to hear old walt interv...\n",
       "1599996    are you ready for your mojo makeover? ask me f...\n",
       "1599997    happy 38th birthday to my boo of alll time!!! ...\n",
       "1599998    happy #charitytuesday @thenspcc @sparkscharity...\n",
       "Name: text, dtype: object"
      ]
     },
     "execution_count": 14,
     "metadata": {},
     "output_type": "execute_result"
    }
   ],
   "source": [
    "data['text'].tail()"
   ]
  },
  {
   "cell_type": "code",
   "execution_count": 15,
   "id": "e360fdca",
   "metadata": {},
   "outputs": [
    {
     "data": {
      "text/html": [
       "<div>\n",
       "<style scoped>\n",
       "    .dataframe tbody tr th:only-of-type {\n",
       "        vertical-align: middle;\n",
       "    }\n",
       "\n",
       "    .dataframe tbody tr th {\n",
       "        vertical-align: top;\n",
       "    }\n",
       "\n",
       "    .dataframe thead th {\n",
       "        text-align: right;\n",
       "    }\n",
       "</style>\n",
       "<table border=\"1\" class=\"dataframe\">\n",
       "  <thead>\n",
       "    <tr style=\"text-align: right;\">\n",
       "      <th></th>\n",
       "      <th>text</th>\n",
       "      <th>label</th>\n",
       "    </tr>\n",
       "  </thead>\n",
       "  <tbody>\n",
       "    <tr>\n",
       "      <th>0</th>\n",
       "      <td>is upset that he can't update his facebook by ...</td>\n",
       "      <td>0</td>\n",
       "    </tr>\n",
       "    <tr>\n",
       "      <th>1</th>\n",
       "      <td>@kenichan i dived many times for the ball. man...</td>\n",
       "      <td>0</td>\n",
       "    </tr>\n",
       "    <tr>\n",
       "      <th>2</th>\n",
       "      <td>my whole body feels itchy and like its on fire</td>\n",
       "      <td>0</td>\n",
       "    </tr>\n",
       "    <tr>\n",
       "      <th>3</th>\n",
       "      <td>@nationwideclass no, it's not behaving at all....</td>\n",
       "      <td>0</td>\n",
       "    </tr>\n",
       "    <tr>\n",
       "      <th>4</th>\n",
       "      <td>@kwesidei not the whole crew</td>\n",
       "      <td>0</td>\n",
       "    </tr>\n",
       "    <tr>\n",
       "      <th>...</th>\n",
       "      <td>...</td>\n",
       "      <td>...</td>\n",
       "    </tr>\n",
       "    <tr>\n",
       "      <th>154995</th>\n",
       "      <td>@atebits new style disappoint me, i could hard...</td>\n",
       "      <td>0</td>\n",
       "    </tr>\n",
       "    <tr>\n",
       "      <th>154996</th>\n",
       "      <td>@ether_radio boo</td>\n",
       "      <td>0</td>\n",
       "    </tr>\n",
       "    <tr>\n",
       "      <th>154997</th>\n",
       "      <td>tired!! majorly bored of revision!</td>\n",
       "      <td>0</td>\n",
       "    </tr>\n",
       "    <tr>\n",
       "      <th>154998</th>\n",
       "      <td>im still so tired</td>\n",
       "      <td>0</td>\n",
       "    </tr>\n",
       "    <tr>\n",
       "      <th>154999</th>\n",
       "      <td>i'd enjoy the rain if i didn't have to go out ...</td>\n",
       "      <td>0</td>\n",
       "    </tr>\n",
       "  </tbody>\n",
       "</table>\n",
       "<p>155000 rows × 2 columns</p>\n",
       "</div>"
      ],
      "text/plain": [
       "                                                     text  label\n",
       "0       is upset that he can't update his facebook by ...      0\n",
       "1       @kenichan i dived many times for the ball. man...      0\n",
       "2         my whole body feels itchy and like its on fire       0\n",
       "3       @nationwideclass no, it's not behaving at all....      0\n",
       "4                           @kwesidei not the whole crew       0\n",
       "...                                                   ...    ...\n",
       "154995  @atebits new style disappoint me, i could hard...      0\n",
       "154996                                  @ether_radio boo       0\n",
       "154997                tired!! majorly bored of revision!       0\n",
       "154998                                 im still so tired       0\n",
       "154999  i'd enjoy the rain if i didn't have to go out ...      0\n",
       "\n",
       "[155000 rows x 2 columns]"
      ]
     },
     "execution_count": 15,
     "metadata": {},
     "output_type": "execute_result"
    }
   ],
   "source": [
    "data.head(155000)"
   ]
  },
  {
   "cell_type": "code",
   "execution_count": 16,
   "id": "33effb95",
   "metadata": {},
   "outputs": [],
   "source": [
    "stopwords_list = stopwords.words('english')"
   ]
  },
  {
   "cell_type": "code",
   "execution_count": 17,
   "id": "2d3b2617",
   "metadata": {},
   "outputs": [
    {
     "data": {
      "text/plain": [
       "\"i, me, my, myself, we, our, ours, ourselves, you, you're, you've, you'll, you'd, your, yours, yourself, yourselves, he, him, his, himself, she, she's, her, hers, herself, it, it's, its, itself, they, them, their, theirs, themselves, what, which, who, whom, this, that, that'll, these, those, am, is, are, was, were, be, been, being, have, has, had, having, do, does, did, doing, a, an, the, and, but, if, or, because, as, until, while, of, at, by, for, with, about, against, between, into, through, during, before, after, above, below, to, from, up, down, in, out, on, off, over, under, again, further, then, once, here, there, when, where, why, how, all, any, both, each, few, more, most, other, some, such, no, nor, not, only, own, same, so, than, too, very, s, t, can, will, just, don, don't, should, should've, now, d, ll, m, o, re, ve, y, ain, aren, aren't, couldn, couldn't, didn, didn't, doesn, doesn't, hadn, hadn't, hasn, hasn't, haven, haven't, isn, isn't, ma, mightn, mightn't, mustn, mustn't, needn, needn't, shan, shan't, shouldn, shouldn't, wasn, wasn't, weren, weren't, won, won't, wouldn, wouldn't\""
      ]
     },
     "execution_count": 17,
     "metadata": {},
     "output_type": "execute_result"
    }
   ],
   "source": [
    "from nltk.corpus import stopwords\n",
    "\", \".join(stopwords.words('english'))"
   ]
  },
  {
   "cell_type": "code",
   "execution_count": 18,
   "id": "124a771c",
   "metadata": {},
   "outputs": [
    {
     "data": {
      "text/plain": [
       "0    upset can't update facebook texting it... migh...\n",
       "1    @kenichan dived many times ball. managed save ...\n",
       "2                     whole body feels itchy like fire\n",
       "3    @nationwideclass no, behaving all. i'm mad. he...\n",
       "4                                 @kwesidei whole crew\n",
       "Name: text, dtype: object"
      ]
     },
     "execution_count": 18,
     "metadata": {},
     "output_type": "execute_result"
    }
   ],
   "source": [
    "STOPWORDS = set(stopwords.words('english'))\n",
    "def cleaning_stopwords(text):\n",
    "    return \" \".join([word for word in str(text).split() if word not in STOPWORDS])\n",
    "data['text'] = data['text'].apply(lambda text: cleaning_stopwords(text))\n",
    "data['text'].head()"
   ]
  },
  {
   "cell_type": "code",
   "execution_count": 19,
   "id": "77767fb1",
   "metadata": {},
   "outputs": [],
   "source": [
    "english_punctuations = string.punctuation\n",
    "punctuations_list = english_punctuations\n",
    "def cleaning_punctuations(text):\n",
    "    translator = str.maketrans('', '', punctuations_list)\n",
    "    return text.translate(translator)"
   ]
  },
  {
   "cell_type": "code",
   "execution_count": 20,
   "id": "4017cbbe",
   "metadata": {},
   "outputs": [
    {
     "data": {
      "text/plain": [
       "0    upset cant update facebook texting it might cr...\n",
       "1    kenichan dived many times ball managed save 50...\n",
       "2                     whole body feels itchy like fire\n",
       "3    nationwideclass no behaving all im mad here ca...\n",
       "4                                  kwesidei whole crew\n",
       "Name: text, dtype: object"
      ]
     },
     "execution_count": 20,
     "metadata": {},
     "output_type": "execute_result"
    }
   ],
   "source": [
    "data['text']= data['text'].apply(lambda x: cleaning_punctuations(x))\n",
    "data['text'].head()"
   ]
  },
  {
   "cell_type": "code",
   "execution_count": 21,
   "id": "7296dc73",
   "metadata": {},
   "outputs": [],
   "source": [
    "def cleaning_repeating_char(text):\n",
    "    return re.sub(r'(.)\\1+', r'\\1', text)"
   ]
  },
  {
   "cell_type": "code",
   "execution_count": 22,
   "id": "7c2611c5",
   "metadata": {},
   "outputs": [
    {
     "data": {
      "text/plain": [
       "0    upset cant update facebok texting it might cry...\n",
       "1    kenichan dived many times bal managed save 50 ...\n",
       "2                      whole body fels itchy like fire\n",
       "3    nationwideclas no behaving al im mad here cant...\n",
       "4                                  kwesidei whole crew\n",
       "Name: text, dtype: object"
      ]
     },
     "execution_count": 22,
     "metadata": {},
     "output_type": "execute_result"
    }
   ],
   "source": [
    "data['text'] = data['text'].apply(lambda x: cleaning_repeating_char(x))\n",
    "data['text'].head()"
   ]
  },
  {
   "cell_type": "code",
   "execution_count": 23,
   "id": "9e3833c4",
   "metadata": {},
   "outputs": [],
   "source": [
    "def cleaning_email(data):\n",
    "    return re.sub('@[^\\s]+', ' ', data)"
   ]
  },
  {
   "cell_type": "code",
   "execution_count": 24,
   "id": "73e45fc8",
   "metadata": {},
   "outputs": [
    {
     "data": {
      "text/plain": [
       "1599994                       woke up schol best feling ever\n",
       "1599995    thewdbcom col hear old walt interviews â« htp...\n",
       "1599996                      ready mojo makeover ask details\n",
       "1599997     hapy 38th birthday bo al time tupac amaru shakur\n",
       "1599998    hapy charitytuesday thenspc sparkscharity spea...\n",
       "Name: text, dtype: object"
      ]
     },
     "execution_count": 24,
     "metadata": {},
     "output_type": "execute_result"
    }
   ],
   "source": [
    "data['text']= data['text'].apply(lambda x: cleaning_email(x))\n",
    "data['text'].tail()"
   ]
  },
  {
   "cell_type": "code",
   "execution_count": 25,
   "id": "f0d5e22b",
   "metadata": {},
   "outputs": [],
   "source": [
    "def cleaning_URLs(data):\n",
    "    return re.sub('((www\\.[^\\s]+)|(https?://[^\\s]+))',' ',data)"
   ]
  },
  {
   "cell_type": "code",
   "execution_count": 26,
   "id": "a88bc613",
   "metadata": {},
   "outputs": [
    {
     "data": {
      "text/plain": [
       "1599994                       woke up schol best feling ever\n",
       "1599995    thewdbcom col hear old walt interviews â« htp...\n",
       "1599996                      ready mojo makeover ask details\n",
       "1599997     hapy 38th birthday bo al time tupac amaru shakur\n",
       "1599998    hapy charitytuesday thenspc sparkscharity spea...\n",
       "Name: text, dtype: object"
      ]
     },
     "execution_count": 26,
     "metadata": {},
     "output_type": "execute_result"
    }
   ],
   "source": [
    "data['text'] = data['text'].apply(lambda x: cleaning_URLs(x))\n",
    "data['text'].tail()"
   ]
  },
  {
   "cell_type": "code",
   "execution_count": 27,
   "id": "9cead128",
   "metadata": {},
   "outputs": [],
   "source": [
    "def cleaning_numbers(data):\n",
    "    return re.sub('[0-9]+', '', data)"
   ]
  },
  {
   "cell_type": "code",
   "execution_count": 28,
   "id": "baaac7aa",
   "metadata": {},
   "outputs": [
    {
     "data": {
      "text/plain": [
       "1599994                       woke up schol best feling ever\n",
       "1599995    thewdbcom col hear old walt interviews â« htp...\n",
       "1599996                      ready mojo makeover ask details\n",
       "1599997       hapy th birthday bo al time tupac amaru shakur\n",
       "1599998    hapy charitytuesday thenspc sparkscharity spea...\n",
       "Name: text, dtype: object"
      ]
     },
     "execution_count": 28,
     "metadata": {},
     "output_type": "execute_result"
    }
   ],
   "source": [
    "data['text'] = data['text'].apply(lambda x: cleaning_numbers(x))\n",
    "data['text'].tail()"
   ]
  },
  {
   "cell_type": "code",
   "execution_count": 29,
   "id": "d844646e",
   "metadata": {},
   "outputs": [],
   "source": [
    "tokenizer = RegexpTokenizer(r'\\w+')\n",
    "data['text'] = data['text'].apply(tokenizer.tokenize)"
   ]
  },
  {
   "cell_type": "code",
   "execution_count": 30,
   "id": "858bbd9e",
   "metadata": {},
   "outputs": [
    {
     "name": "stdout",
     "output_type": "stream",
     "text": [
      "<class 'pandas.core.frame.DataFrame'>\n",
      "RangeIndex: 1599999 entries, 0 to 1599998\n",
      "Data columns (total 2 columns):\n",
      " #   Column  Non-Null Count    Dtype \n",
      "---  ------  --------------    ----- \n",
      " 0   text    1599999 non-null  object\n",
      " 1   label   1599999 non-null  int64 \n",
      "dtypes: int64(1), object(1)\n",
      "memory usage: 24.4+ MB\n"
     ]
    }
   ],
   "source": [
    "data['text'].head()\n",
    "data.info()"
   ]
  },
  {
   "cell_type": "code",
   "execution_count": 32,
   "id": "9162e490",
   "metadata": {},
   "outputs": [
    {
     "data": {
      "image/png": "[encoded data removed]",
      "text/plain": [
       "<Figure size 800x600 with 1 Axes>"
      ]
     },
     "metadata": {},
     "output_type": "display_data"
    }
   ],
   "source": [
    "max_words = data['text'].apply(lambda x: len(' '.join(x).split()))\n",
    "\n",
    "# Plotting the distribution of the maximum number of words in sentences\n",
    "plt.figure(figsize=(8, 6))\n",
    "sns.histplot(max_words, bins=30)\n",
    "plt.title('Distribution of Maximum Words in Sentences')\n",
    "plt.xlabel('Number of Words')\n",
    "plt.ylabel('Frequency')\n",
    "plt.show()"
   ]
  },
  {
   "cell_type": "code",
   "execution_count": 47,
   "id": "41c42534",
   "metadata": {},
   "outputs": [],
   "source": [
    "lm = nltk.WordNetLemmatizer()\n",
    "def lemmatizer_on_text(data):\n",
    "    text = [lm.lemmatize(word) for word in data]\n",
    "    return data\n",
    "\n",
    "data['text'] = data['text'].apply(lambda x: lemmatizer_on_text(x))"
   ]
  },
  {
   "cell_type": "code",
   "execution_count": 48,
   "id": "82d941d6",
   "metadata": {},
   "outputs": [
    {
     "data": {
      "text/plain": [
       "0    [upset, cant, update, facebok, texting, it, mi...\n",
       "1    [kenichan, dived, many, times, bal, managed, s...\n",
       "2               [whole, body, fels, itchy, like, fire]\n",
       "3    [nationwideclas, no, behaving, al, im, mad, he...\n",
       "4                              [kwesidei, whole, crew]\n",
       "Name: text, dtype: object"
      ]
     },
     "execution_count": 48,
     "metadata": {},
     "output_type": "execute_result"
    }
   ],
   "source": [
    "data['text'].head()"
   ]
  },
  {
   "cell_type": "code",
   "execution_count": 49,
   "id": "879fd359",
   "metadata": {},
   "outputs": [
    {
     "data": {
      "text/html": [
       "<div>\n",
       "<style scoped>\n",
       "    .dataframe tbody tr th:only-of-type {\n",
       "        vertical-align: middle;\n",
       "    }\n",
       "\n",
       "    .dataframe tbody tr th {\n",
       "        vertical-align: top;\n",
       "    }\n",
       "\n",
       "    .dataframe thead th {\n",
       "        text-align: right;\n",
       "    }\n",
       "</style>\n",
       "<table border=\"1\" class=\"dataframe\">\n",
       "  <thead>\n",
       "    <tr style=\"text-align: right;\">\n",
       "      <th></th>\n",
       "      <th>text</th>\n",
       "      <th>label</th>\n",
       "    </tr>\n",
       "  </thead>\n",
       "  <tbody>\n",
       "    <tr>\n",
       "      <th>0</th>\n",
       "      <td>[upset, cant, update, facebok, texting, it, mi...</td>\n",
       "      <td>0</td>\n",
       "    </tr>\n",
       "    <tr>\n",
       "      <th>1</th>\n",
       "      <td>[kenichan, dived, many, times, bal, managed, s...</td>\n",
       "      <td>0</td>\n",
       "    </tr>\n",
       "    <tr>\n",
       "      <th>2</th>\n",
       "      <td>[whole, body, fels, itchy, like, fire]</td>\n",
       "      <td>0</td>\n",
       "    </tr>\n",
       "    <tr>\n",
       "      <th>3</th>\n",
       "      <td>[nationwideclas, no, behaving, al, im, mad, he...</td>\n",
       "      <td>0</td>\n",
       "    </tr>\n",
       "    <tr>\n",
       "      <th>4</th>\n",
       "      <td>[kwesidei, whole, crew]</td>\n",
       "      <td>0</td>\n",
       "    </tr>\n",
       "  </tbody>\n",
       "</table>\n",
       "</div>"
      ],
      "text/plain": [
       "                                                text  label\n",
       "0  [upset, cant, update, facebok, texting, it, mi...      0\n",
       "1  [kenichan, dived, many, times, bal, managed, s...      0\n",
       "2             [whole, body, fels, itchy, like, fire]      0\n",
       "3  [nationwideclas, no, behaving, al, im, mad, he...      0\n",
       "4                            [kwesidei, whole, crew]      0"
      ]
     },
     "execution_count": 49,
     "metadata": {},
     "output_type": "execute_result"
    }
   ],
   "source": [
    "data.head()"
   ]
  },
  {
   "cell_type": "code",
   "execution_count": 50,
   "id": "02c81277",
   "metadata": {},
   "outputs": [
    {
     "data": {
      "text/html": [
       "<div>\n",
       "<style scoped>\n",
       "    .dataframe tbody tr th:only-of-type {\n",
       "        vertical-align: middle;\n",
       "    }\n",
       "\n",
       "    .dataframe tbody tr th {\n",
       "        vertical-align: top;\n",
       "    }\n",
       "\n",
       "    .dataframe thead th {\n",
       "        text-align: right;\n",
       "    }\n",
       "</style>\n",
       "<table border=\"1\" class=\"dataframe\">\n",
       "  <thead>\n",
       "    <tr style=\"text-align: right;\">\n",
       "      <th></th>\n",
       "      <th>text</th>\n",
       "      <th>label</th>\n",
       "    </tr>\n",
       "  </thead>\n",
       "  <tbody>\n",
       "    <tr>\n",
       "      <th>860425</th>\n",
       "      <td>[home, swet, home, home, early, realy, long, t...</td>\n",
       "      <td>1</td>\n",
       "    </tr>\n",
       "    <tr>\n",
       "      <th>381048</th>\n",
       "      <td>[neilmcmahon, whops, maybe, now, sory, bc]</td>\n",
       "      <td>0</td>\n",
       "    </tr>\n",
       "    <tr>\n",
       "      <th>742362</th>\n",
       "      <td>[tumy, hurting]</td>\n",
       "      <td>0</td>\n",
       "    </tr>\n",
       "    <tr>\n",
       "      <th>404742</th>\n",
       "      <td>[back, md, sad, sad, sad, mis, cruise, mising,...</td>\n",
       "      <td>0</td>\n",
       "    </tr>\n",
       "    <tr>\n",
       "      <th>590706</th>\n",
       "      <td>[woke, nap, insomnia, come]</td>\n",
       "      <td>0</td>\n",
       "    </tr>\n",
       "    <tr>\n",
       "      <th>826387</th>\n",
       "      <td>[iamdidy, get, locked, didy, know, do, lol, di...</td>\n",
       "      <td>1</td>\n",
       "    </tr>\n",
       "    <tr>\n",
       "      <th>681549</th>\n",
       "      <td>[kahle, always, jealous, monroe, haha]</td>\n",
       "      <td>0</td>\n",
       "    </tr>\n",
       "    <tr>\n",
       "      <th>1531923</th>\n",
       "      <td>[one, god, trip, home, bargains, spent, quid, ...</td>\n",
       "      <td>1</td>\n",
       "    </tr>\n",
       "    <tr>\n",
       "      <th>406020</th>\n",
       "      <td>[sad, wen, u, lose, loved, luv, u, boby, v]</td>\n",
       "      <td>0</td>\n",
       "    </tr>\n",
       "    <tr>\n",
       "      <th>848228</th>\n",
       "      <td>[knows, anybody, god, blog, celebs, days, twit...</td>\n",
       "      <td>1</td>\n",
       "    </tr>\n",
       "    <tr>\n",
       "      <th>491657</th>\n",
       "      <td>[im, bit, behind, mean, fredie]</td>\n",
       "      <td>0</td>\n",
       "    </tr>\n",
       "    <tr>\n",
       "      <th>1511434</th>\n",
       "      <td>[first, day, clases, colege, manilawishin, im,...</td>\n",
       "      <td>1</td>\n",
       "    </tr>\n",
       "    <tr>\n",
       "      <th>901274</th>\n",
       "      <td>[samanthuh, mis, to, yes, im, usualy, fre, pag...</td>\n",
       "      <td>1</td>\n",
       "    </tr>\n",
       "    <tr>\n",
       "      <th>1573809</th>\n",
       "      <td>[simonanajdoska, haha, im, so, excited, hear, ...</td>\n",
       "      <td>1</td>\n",
       "    </tr>\n",
       "    <tr>\n",
       "      <th>1370555</th>\n",
       "      <td>[rom]</td>\n",
       "      <td>1</td>\n",
       "    </tr>\n",
       "    <tr>\n",
       "      <th>795618</th>\n",
       "      <td>[micheleasaurus, oh, oh, oh, do, mis]</td>\n",
       "      <td>0</td>\n",
       "    </tr>\n",
       "    <tr>\n",
       "      <th>244652</th>\n",
       "      <td>[god, morning, everyone]</td>\n",
       "      <td>0</td>\n",
       "    </tr>\n",
       "    <tr>\n",
       "      <th>1050474</th>\n",
       "      <td>[tok, first, nlhe, mt, ive, long, time, buyin,...</td>\n",
       "      <td>1</td>\n",
       "    </tr>\n",
       "    <tr>\n",
       "      <th>1237450</th>\n",
       "      <td>[ryanseacrest, deal, sealer, makes, efort, und...</td>\n",
       "      <td>1</td>\n",
       "    </tr>\n",
       "    <tr>\n",
       "      <th>731381</th>\n",
       "      <td>[chnl, finaly, kicked, black, tea, adiction, p...</td>\n",
       "      <td>0</td>\n",
       "    </tr>\n",
       "    <tr>\n",
       "      <th>1454381</th>\n",
       "      <td>[funy, evening, nice, new, lok]</td>\n",
       "      <td>1</td>\n",
       "    </tr>\n",
       "    <tr>\n",
       "      <th>6182</th>\n",
       "      <td>[tharensolo, im, sory, thats, realy, fair, al]</td>\n",
       "      <td>0</td>\n",
       "    </tr>\n",
       "    <tr>\n",
       "      <th>327444</th>\n",
       "      <td>[teamcybergeist, heading, practice, to, wish, ...</td>\n",
       "      <td>0</td>\n",
       "    </tr>\n",
       "    <tr>\n",
       "      <th>1578843</th>\n",
       "      <td>[god, night, chad, time, relax, slep, slep, in...</td>\n",
       "      <td>1</td>\n",
       "    </tr>\n",
       "    <tr>\n",
       "      <th>1027281</th>\n",
       "      <td>[start, day, or, end, night, state, trance, ar...</td>\n",
       "      <td>1</td>\n",
       "    </tr>\n",
       "    <tr>\n",
       "      <th>817299</th>\n",
       "      <td>[thinks, blues, amazing, today, cant, wait, go...</td>\n",
       "      <td>1</td>\n",
       "    </tr>\n",
       "    <tr>\n",
       "      <th>1150799</th>\n",
       "      <td>[ebonystarlol, yeathen, find, hana, montanand,...</td>\n",
       "      <td>1</td>\n",
       "    </tr>\n",
       "    <tr>\n",
       "      <th>426390</th>\n",
       "      <td>[lordy, boxers, loads, energy, imagine, unahpy...</td>\n",
       "      <td>0</td>\n",
       "    </tr>\n",
       "    <tr>\n",
       "      <th>471841</th>\n",
       "      <td>[work, wondering, get, one, building, nextits,...</td>\n",
       "      <td>0</td>\n",
       "    </tr>\n",
       "    <tr>\n",
       "      <th>704898</th>\n",
       "      <td>[chiling, rom, cant, belive, cold, today, sux]</td>\n",
       "      <td>0</td>\n",
       "    </tr>\n",
       "    <tr>\n",
       "      <th>288946</th>\n",
       "      <td>[headache, omg, realy, bad, new, mon, th, nove...</td>\n",
       "      <td>0</td>\n",
       "    </tr>\n",
       "    <tr>\n",
       "      <th>1337849</th>\n",
       "      <td>[paulbazinet, aded, back, fun, there, ive, got...</td>\n",
       "      <td>1</td>\n",
       "    </tr>\n",
       "    <tr>\n",
       "      <th>1478121</th>\n",
       "      <td>[excited, new, season, army, wives, comes, ton...</td>\n",
       "      <td>1</td>\n",
       "    </tr>\n",
       "    <tr>\n",
       "      <th>61451</th>\n",
       "      <td>[playofs]</td>\n",
       "      <td>0</td>\n",
       "    </tr>\n",
       "    <tr>\n",
       "      <th>85918</th>\n",
       "      <td>[meh, chemistry, tomorow]</td>\n",
       "      <td>0</td>\n",
       "    </tr>\n",
       "    <tr>\n",
       "      <th>770209</th>\n",
       "      <td>[rain, delay, cws]</td>\n",
       "      <td>0</td>\n",
       "    </tr>\n",
       "    <tr>\n",
       "      <th>967980</th>\n",
       "      <td>[snaple, fact, temp, sun, reach, milion, degre...</td>\n",
       "      <td>1</td>\n",
       "    </tr>\n",
       "    <tr>\n",
       "      <th>1112010</th>\n",
       "      <td>[getin, tan]</td>\n",
       "      <td>1</td>\n",
       "    </tr>\n",
       "    <tr>\n",
       "      <th>15452</th>\n",
       "      <td>[corkylowho, havent, sen]</td>\n",
       "      <td>0</td>\n",
       "    </tr>\n",
       "    <tr>\n",
       "      <th>1225911</th>\n",
       "      <td>[listening, music, check, myspace, pages, later]</td>\n",
       "      <td>1</td>\n",
       "    </tr>\n",
       "    <tr>\n",
       "      <th>1582474</th>\n",
       "      <td>[wel, ive, nice, rest, days, cyclone, chalenge...</td>\n",
       "      <td>1</td>\n",
       "    </tr>\n",
       "    <tr>\n",
       "      <th>1238206</th>\n",
       "      <td>[days, â, cant, wait]</td>\n",
       "      <td>1</td>\n",
       "    </tr>\n",
       "    <tr>\n",
       "      <th>483575</th>\n",
       "      <td>[going, back, work, watch, training, tv, take,...</td>\n",
       "      <td>0</td>\n",
       "    </tr>\n",
       "    <tr>\n",
       "      <th>768552</th>\n",
       "      <td>[juliebelamy, naught, god, kink]</td>\n",
       "      <td>0</td>\n",
       "    </tr>\n",
       "    <tr>\n",
       "      <th>212724</th>\n",
       "      <td>[another, glomy, dayand, yeahthe, nugets, lost...</td>\n",
       "      <td>0</td>\n",
       "    </tr>\n",
       "    <tr>\n",
       "      <th>517364</th>\n",
       "      <td>[theserious, fly, july, th]</td>\n",
       "      <td>0</td>\n",
       "    </tr>\n",
       "    <tr>\n",
       "      <th>1428100</th>\n",
       "      <td>[found, new, ice, cream, like, eat, caled, ude...</td>\n",
       "      <td>1</td>\n",
       "    </tr>\n",
       "    <tr>\n",
       "      <th>1587959</th>\n",
       "      <td>[one, hand, fuzbal, hand, tehran, htptinyurlco...</td>\n",
       "      <td>1</td>\n",
       "    </tr>\n",
       "    <tr>\n",
       "      <th>375808</th>\n",
       "      <td>[feling, hot, right, now, wish, felt, healthy]</td>\n",
       "      <td>0</td>\n",
       "    </tr>\n",
       "    <tr>\n",
       "      <th>745247</th>\n",
       "      <td>[pameladetlor, im, sory, kities, hope, one, ve...</td>\n",
       "      <td>0</td>\n",
       "    </tr>\n",
       "  </tbody>\n",
       "</table>\n",
       "</div>"
      ],
      "text/plain": [
       "                                                      text  label\n",
       "860425   [home, swet, home, home, early, realy, long, t...      1\n",
       "381048          [neilmcmahon, whops, maybe, now, sory, bc]      0\n",
       "742362                                     [tumy, hurting]      0\n",
       "404742   [back, md, sad, sad, sad, mis, cruise, mising,...      0\n",
       "590706                         [woke, nap, insomnia, come]      0\n",
       "826387   [iamdidy, get, locked, didy, know, do, lol, di...      1\n",
       "681549              [kahle, always, jealous, monroe, haha]      0\n",
       "1531923  [one, god, trip, home, bargains, spent, quid, ...      1\n",
       "406020         [sad, wen, u, lose, loved, luv, u, boby, v]      0\n",
       "848228   [knows, anybody, god, blog, celebs, days, twit...      1\n",
       "491657                     [im, bit, behind, mean, fredie]      0\n",
       "1511434  [first, day, clases, colege, manilawishin, im,...      1\n",
       "901274   [samanthuh, mis, to, yes, im, usualy, fre, pag...      1\n",
       "1573809  [simonanajdoska, haha, im, so, excited, hear, ...      1\n",
       "1370555                                              [rom]      1\n",
       "795618               [micheleasaurus, oh, oh, oh, do, mis]      0\n",
       "244652                            [god, morning, everyone]      0\n",
       "1050474  [tok, first, nlhe, mt, ive, long, time, buyin,...      1\n",
       "1237450  [ryanseacrest, deal, sealer, makes, efort, und...      1\n",
       "731381   [chnl, finaly, kicked, black, tea, adiction, p...      0\n",
       "1454381                    [funy, evening, nice, new, lok]      1\n",
       "6182        [tharensolo, im, sory, thats, realy, fair, al]      0\n",
       "327444   [teamcybergeist, heading, practice, to, wish, ...      0\n",
       "1578843  [god, night, chad, time, relax, slep, slep, in...      1\n",
       "1027281  [start, day, or, end, night, state, trance, ar...      1\n",
       "817299   [thinks, blues, amazing, today, cant, wait, go...      1\n",
       "1150799  [ebonystarlol, yeathen, find, hana, montanand,...      1\n",
       "426390   [lordy, boxers, loads, energy, imagine, unahpy...      0\n",
       "471841   [work, wondering, get, one, building, nextits,...      0\n",
       "704898      [chiling, rom, cant, belive, cold, today, sux]      0\n",
       "288946   [headache, omg, realy, bad, new, mon, th, nove...      0\n",
       "1337849  [paulbazinet, aded, back, fun, there, ive, got...      1\n",
       "1478121  [excited, new, season, army, wives, comes, ton...      1\n",
       "61451                                            [playofs]      0\n",
       "85918                            [meh, chemistry, tomorow]      0\n",
       "770209                                  [rain, delay, cws]      0\n",
       "967980   [snaple, fact, temp, sun, reach, milion, degre...      1\n",
       "1112010                                       [getin, tan]      1\n",
       "15452                            [corkylowho, havent, sen]      0\n",
       "1225911   [listening, music, check, myspace, pages, later]      1\n",
       "1582474  [wel, ive, nice, rest, days, cyclone, chalenge...      1\n",
       "1238206                              [days, â, cant, wait]      1\n",
       "483575   [going, back, work, watch, training, tv, take,...      0\n",
       "768552                    [juliebelamy, naught, god, kink]      0\n",
       "212724   [another, glomy, dayand, yeahthe, nugets, lost...      0\n",
       "517364                         [theserious, fly, july, th]      0\n",
       "1428100  [found, new, ice, cream, like, eat, caled, ude...      1\n",
       "1587959  [one, hand, fuzbal, hand, tehran, htptinyurlco...      1\n",
       "375808      [feling, hot, right, now, wish, felt, healthy]      0\n",
       "745247   [pameladetlor, im, sory, kities, hope, one, ve...      0"
      ]
     },
     "execution_count": 50,
     "metadata": {},
     "output_type": "execute_result"
    }
   ],
   "source": [
    "data.sample(50)"
   ]
  },
  {
   "cell_type": "code",
   "execution_count": 51,
   "id": "e7a9e1ee",
   "metadata": {},
   "outputs": [
    {
     "data": {
      "image/png": "[encoded data removed]",
      "text/plain": [
       "<Figure size 640x480 with 1 Axes>"
      ]
     },
     "metadata": {},
     "output_type": "display_data"
    }
   ],
   "source": [
    "# Obtenez un nuage de mots en ce qui concerne les données pour la polarité = 4 qui signifie positif\n",
    "from wordcloud import WordCloud\n",
    "\n",
    "positive = data.loc[data['label'] == 1]  # Remplacez 'df' par 'data'\n",
    "text = positive['text'].values \n",
    "wordcloud = WordCloud().generate(str(text))\n",
    "plt.imshow(wordcloud)\n",
    "plt.axis(\"off\")\n",
    "plt.show()"
   ]
  },
  {
   "cell_type": "code",
   "execution_count": 52,
   "id": "41a24cc6",
   "metadata": {},
   "outputs": [
    {
     "data": {
      "image/png": "[encoded data removed]",
      "text/plain": [
       "<Figure size 640x480 with 1 Axes>"
      ]
     },
     "metadata": {},
     "output_type": "display_data"
    }
   ],
   "source": [
    "#Obtenez un nuage de mots par rapport aux données pour la polarité = 0 qui signifie négatif\n",
    "negative =  data.loc[data['label'] == 0]\n",
    "text = negative['text'].values \n",
    "wordcloud = WordCloud().generate(str(text))\n",
    "plt.imshow(wordcloud)\n",
    "plt.axis(\"off\")\n",
    "plt.show()"
   ]
  },
  {
   "cell_type": "code",
   "execution_count": 53,
   "id": "08ae493a",
   "metadata": {},
   "outputs": [],
   "source": [
    "X=data.text\n",
    "y=data.label"
   ]
  },
  {
   "cell_type": "code",
   "execution_count": 54,
   "id": "14109ceb",
   "metadata": {},
   "outputs": [
    {
     "data": {
      "text/plain": [
       "0          0\n",
       "1          0\n",
       "2          0\n",
       "3          0\n",
       "4          0\n",
       "          ..\n",
       "1599994    1\n",
       "1599995    1\n",
       "1599996    1\n",
       "1599997    1\n",
       "1599998    1\n",
       "Name: label, Length: 1599999, dtype: int64"
      ]
     },
     "execution_count": 54,
     "metadata": {},
     "output_type": "execute_result"
    }
   ],
   "source": [
    "y"
   ]
  },
  {
   "cell_type": "code",
   "execution_count": 55,
   "id": "b728af4d",
   "metadata": {},
   "outputs": [],
   "source": [
    "max_len = 500\n",
    "tok = Tokenizer(num_words=2000)    # the maximum number of words to keep, based on word frequency. Only the most common num_words-1 words will be kept.\n",
    "tok.fit_on_texts(X)\n",
    "sequences = tok.texts_to_sequences(X)\n",
    "sequences_matrix = sequence.pad_sequences(sequences,maxlen=max_len)"
   ]
  },
  {
   "cell_type": "code",
   "execution_count": 56,
   "id": "1f3972c4",
   "metadata": {},
   "outputs": [
    {
     "data": {
      "text/plain": [
       "(1599999, 500)"
      ]
     },
     "execution_count": 56,
     "metadata": {},
     "output_type": "execute_result"
    }
   ],
   "source": [
    "sequences_matrix.shape"
   ]
  },
  {
   "cell_type": "code",
   "execution_count": 57,
   "id": "d896e86e",
   "metadata": {},
   "outputs": [
    {
     "data": {
      "text/plain": [
       "array([[   0,    0,    0, ...,    8,  185,  924],\n",
       "       [   0,    0,    0, ...,  818,  381,    6],\n",
       "       [   0,    0,    0, ...,  388,    5, 1096],\n",
       "       ...,\n",
       "       [   0,    0,    0, ...,  124,  528, 1964],\n",
       "       [   0,    0,    0, ...,  298,  247,   13],\n",
       "       [   0,    0,    0, ...,    0,    0,   54]])"
      ]
     },
     "execution_count": 57,
     "metadata": {},
     "output_type": "execute_result"
    }
   ],
   "source": [
    "sequences_matrix"
   ]
  },
  {
   "cell_type": "code",
   "execution_count": 58,
   "id": "5b422442",
   "metadata": {},
   "outputs": [],
   "source": [
    "X_train, X_test, Y_train, Y_test = train_test_split(sequences_matrix, y, test_size=0.3, random_state=2)"
   ]
  },
  {
   "cell_type": "code",
   "execution_count": 59,
   "id": "3071ea29",
   "metadata": {},
   "outputs": [],
   "source": [
    "#Implementing Tensorflow based model for training\n",
    "\n",
    "def tensorflow_based_model(): #Defined tensorflow_based_model function for training tenforflow based model\n",
    "    inputs = Input(name='inputs',shape=[max_len])#step1\n",
    "    layer = Embedding(2000,50,input_length=max_len)(inputs) #step2\n",
    "    layer = LSTM(64)(layer) #step3\n",
    "    layer = Dense(256,name='FC1')(layer) #step4\n",
    "    layer = Activation('relu')(layer) # step5\n",
    "    layer = Dropout(0.5)(layer) # step6\n",
    "    layer = Dense(1,name='out_layer')(layer) #step4 again but this time its giving only one output as because we need to classify the tweet as positive or negative\n",
    "    layer = Activation('sigmoid')(layer) #step5 but this time activation function is sigmoid for only one output.\n",
    "    model = Model(inputs=inputs,outputs=layer) #here we are getting the final output value in the model for classification\n",
    "    return model #function returning the value when we call it"
   ]
  },
  {
   "cell_type": "code",
   "execution_count": 60,
   "id": "4daf8e19",
   "metadata": {},
   "outputs": [
    {
     "name": "stdout",
     "output_type": "stream",
     "text": [
      "WARNING:tensorflow:From C:\\Users\\massad\\anaconda3\\Lib\\site-packages\\keras\\src\\backend.py:1398: The name tf.executing_eagerly_outside_functions is deprecated. Please use tf.compat.v1.executing_eagerly_outside_functions instead.\n",
      "\n"
     ]
    }
   ],
   "source": [
    "#Model compilation\n",
    "model = tensorflow_based_model() # here we are calling the function of created model\n",
    "model.compile(loss='binary_crossentropy',optimizer=RMSprop(),metrics=['accuracy'])"
   ]
  },
  {
   "cell_type": "code",
   "execution_count": 61,
   "id": "6fd27a25",
   "metadata": {},
   "outputs": [
    {
     "name": "stdout",
     "output_type": "stream",
     "text": [
      "Epoch 1/6\n",
      "WARNING:tensorflow:From C:\\Users\\massad\\anaconda3\\Lib\\site-packages\\keras\\src\\utils\\tf_utils.py:492: The name tf.ragged.RaggedTensorValue is deprecated. Please use tf.compat.v1.ragged.RaggedTensorValue instead.\n",
      "\n",
      "WARNING:tensorflow:From C:\\Users\\massad\\anaconda3\\Lib\\site-packages\\keras\\src\\engine\\base_layer_utils.py:384: The name tf.executing_eagerly_outside_functions is deprecated. Please use tf.compat.v1.executing_eagerly_outside_functions instead.\n",
      "\n",
      "12600/12600 [==============================] - 7800s 590ms/step - loss: 0.4959 - accuracy: 0.7574 - val_loss: 0.4804 - val_accuracy: 0.7672\n",
      "Epoch 2/6\n",
      "12600/12600 [==============================] - 11534s 915ms/step - loss: 0.4785 - accuracy: 0.7691 - val_loss: 0.4743 - val_accuracy: 0.7697\n",
      "Epoch 3/6\n",
      "12600/12600 [==============================] - 8530s 677ms/step - loss: 0.4743 - accuracy: 0.7720 - val_loss: 0.4713 - val_accuracy: 0.7723\n",
      "Epoch 4/6\n",
      "12600/12600 [==============================] - 12578s 998ms/step - loss: 0.4704 - accuracy: 0.7744 - val_loss: 0.4701 - val_accuracy: 0.7733\n",
      "Epoch 5/6\n",
      "12600/12600 [==============================] - 8699s 690ms/step - loss: 0.4679 - accuracy: 0.7755 - val_loss: 0.4706 - val_accuracy: 0.7733\n",
      "Epoch 6/6\n",
      "12600/12600 [==============================] - 7466s 593ms/step - loss: 0.4664 - accuracy: 0.7768 - val_loss: 0.4704 - val_accuracy: 0.7738\n",
      "Training finished !!\n"
     ]
    }
   ],
   "source": [
    "history=model.fit(X_train,Y_train,batch_size=80,epochs=6, validation_split=0.1)# here we are starting the training of model by feeding the training data\n",
    "print('Training finished !!')"
   ]
  },
  {
   "cell_type": "code",
   "execution_count": 63,
   "id": "0b084dba",
   "metadata": {},
   "outputs": [
    {
     "name": "stdout",
     "output_type": "stream",
     "text": [
      "15000/15000 [==============================] - 1241s 81ms/step - loss: 0.4693 - accuracy: 0.7751\n"
     ]
    }
   ],
   "source": [
    "accr1 = model.evaluate(X_test,Y_test) #we are starting to test the model here"
   ]
  },
  {
   "cell_type": "code",
   "execution_count": 64,
   "id": "4034bf31",
   "metadata": {},
   "outputs": [
    {
     "name": "stdout",
     "output_type": "stream",
     "text": [
      "Test set\n",
      "  Accuracy: 0.78\n"
     ]
    }
   ],
   "source": [
    "print('Test set\\n  Accuracy: {:0.2f}'.format(accr1[1])) #the accuracy of the model on test data is given below"
   ]
  },
  {
   "cell_type": "code",
   "execution_count": 65,
   "id": "dcc239fc",
   "metadata": {},
   "outputs": [
    {
     "name": "stdout",
     "output_type": "stream",
     "text": [
      "15000/15000 [==============================] - 1214s 80ms/step\n"
     ]
    }
   ],
   "source": [
    "y_pred = model.predict(X_test) #getting predictions on the trained model\n",
    "y_pred = (y_pred > 0.5) "
   ]
  },
  {
   "cell_type": "code",
   "execution_count": 66,
   "id": "0a32e75b",
   "metadata": {},
   "outputs": [
    {
     "name": "stdout",
     "output_type": "stream",
     "text": [
      "\n",
      "\n",
      "confusion matrix\n",
      "\n",
      "\n",
      "[[182279  57443]\n",
      " [ 50498 189780]]\n",
      "\n",
      "\n"
     ]
    },
    {
     "data": {
      "image/png": "[encoded data removed]",
      "text/plain": [
       "<Figure size 1000x1000 with 2 Axes>"
      ]
     },
     "metadata": {},
     "output_type": "display_data"
    }
   ],
   "source": [
    "print('\\n')\n",
    "print(\"confusion matrix\")\n",
    "print('\\n')\n",
    "CR=confusion_matrix(Y_test, y_pred)\n",
    "print(CR)\n",
    "print('\\n')\n",
    "\n",
    "fig, ax = plot_confusion_matrix(conf_mat=CR,figsize=(10, 10),\n",
    "                                show_absolute=True,\n",
    "                                show_normed=True,\n",
    "                                colorbar=True)\n",
    "plt.show()"
   ]
  },
  {
   "cell_type": "code",
   "execution_count": null,
   "id": "00280793",
   "metadata": {},
   "outputs": [],
   "source": []
  }
 ],
 "metadata": {
  "kernelspec": {
   "display_name": "Python 3 (ipykernel)",
   "language": "python",
   "name": "python3"
  },
  "language_info": {
   "codemirror_mode": {
    "name": "ipython",
    "version": 3
   },
   "file_extension": ".py",
   "mimetype": "text/x-python",
   "name": "python",
   "nbconvert_exporter": "python",
   "pygments_lexer": "ipython3",
   "version": "3.11.5"
  }
 },
 "nbformat": 4,
 "nbformat_minor": 5
}
